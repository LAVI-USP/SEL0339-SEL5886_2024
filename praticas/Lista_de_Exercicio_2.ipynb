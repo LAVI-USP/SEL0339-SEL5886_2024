{
  "nbformat": 4,
  "nbformat_minor": 0,
  "metadata": {
    "colab": {
      "provenance": [],
      "collapsed_sections": [
        "NyvxHviMpShq"
      ]
    },
    "kernelspec": {
      "name": "python3",
      "display_name": "Python 3"
    }
  },
  "cells": [
    {
      "cell_type": "markdown",
      "metadata": {
        "id": "kGlmyFQMaR-U"
      },
      "source": [
        "# Lista de Exercício 2\n",
        "### Introdução à Visão Computacional (SEL0339/SEL5886)\n",
        "\n",
        "**Instruções:**\n",
        "\n",
        " 1. Esta lista consiste em 6 exercícios.\n",
        " 1. Deve-se colocar comentários nos códigos desenvolvidos.\n",
        " 1. As perguntas devem ser respondidas também como comentários no arquivo.\n",
        " 1. Colocar seu nome e número USP abaixo.\n",
        " 1. Quaisquer problemas na execução das listas, entrar em contato com os monitores.\n",
        " 1. Depois de terminados os exercícios, deve ser gerado um arquivo **extensão .ipynb** para ser enviado ao professor pelo E-DISCIPLINAS da disciplina até a data máxima de entrega.\n",
        " 1. Caso não seja enviado - ou identifique-se cópia - o aluno ficará sem nota.\n",
        "\n",
        "\n",
        "---\n",
        "\n",
        "\n",
        "\n",
        " <table class=\"tfo-notebook-buttons\" align=\"left\">\n",
        "  <td>\n",
        "    <a target=\"_blank\" href=\"https://colab.research.google.com/github/LAVI-USP/SEL0339-SEL5886_2024/blob/main/praticas/Lista_de_Exercicio_2.ipynb\"><img src=\"https://www.tensorflow.org/images/colab_logo_32px.png\" />Executar no Google Colab</a>\n",
        "  </td>\n",
        "  <td>\n",
        "    <a target=\"_blank\" href=\"https://github.com/LAVI-USP/SEL0339-SEL5886_2024/blob/main/praticas/Lista_de_Exercicio_2.ipynb\"><img src=\"https://www.tensorflow.org/images/GitHub-Mark-32px.png\" />Ver codigo fonte no GitHub</a>\n",
        "  </td>\n",
        "</table>\n"
      ]
    },
    {
      "cell_type": "markdown",
      "metadata": {
        "id": "L3qYz1dB-tlT"
      },
      "source": [
        "`Nome: `\n",
        "\n",
        "`Número USP: `"
      ]
    },
    {
      "cell_type": "markdown",
      "metadata": {
        "id": "b9uBe7nevota"
      },
      "source": [
        "### Introdução:\n",
        "\n",
        "Esta lista de exercícios abordará o tema de operações morfológicas. \"As transformações morfológicas são algumas operações simples baseadas na forma da imagem. Normalmente são executadas em imagens binárias. Elas precisam de duas entradas: a nossa imagem original e o chamado elemento estruturante (SE) ou *kernel*, que decide a natureza da operação. Dois operadores morfológicos básicos são **Erosão** e **Dilatação**. Em seguida, suas formas variantes como **Abertura**, **Fechamento** também entram em jogo.\" [1]\n",
        "\n",
        "\n",
        "<center><img src=\"https://docs.opencv.org/master/j.png\" style=\"float: left; width: 30%; margin-right: 1%; margin-bottom: 0.5em;\"><img src=\"https://docs.opencv.org/master/erosion.png\" style=\"float: left; width: 30%; margin-right: 1%; margin-bottom: 0.5em;\"><img src=\"https://docs.opencv.org/master/dilation.png\" style=\"float: left; width: 30%; margin-right: 1%; margin-bottom: 0.5em;\"></center>\n",
        "<center><caption><b> Figura 1: </b> Da esquerda para a direita: original, erosão e dilatação.</b></caption></center>\n",
        "<caption><center> Referência: OpenCV - <a href=\"https://docs.opencv.org/master/d9/d61/tutorial_py_morphological_ops.html\">Morphological Transformations</a>.</center></caption>\n",
        "\n",
        "\n",
        "Referências:\n",
        "\n",
        "*   Material da sala de aula;\n",
        "*   Gonzalez and Woods, Digital Image Processing 4th;\n",
        "*   [1] OpenCV: [Morphological Transformations](https://docs.opencv.org/master/d9/d61/tutorial_py_morphological_ops.html);\n",
        "\n",
        "Vamos importar as bibliotecas que iremos utilizar:"
      ]
    },
    {
      "cell_type": "code",
      "metadata": {
        "id": "xnKV2As4aCX1"
      },
      "source": [
        "import numpy as np\n",
        "import matplotlib.pyplot as plt\n",
        "import cv2 as cv"
      ],
      "execution_count": null,
      "outputs": []
    },
    {
      "cell_type": "markdown",
      "metadata": {
        "id": "NyvxHviMpShq"
      },
      "source": [
        "#### **Atenção**: os códigos abaixo são para fazer o download das imagens (EXECUTE-OS). Os mesmos não fazem parte dessa prática."
      ]
    },
    {
      "cell_type": "code",
      "metadata": {
        "id": "Amk5CM273Afp"
      },
      "source": [
        "import urllib.request\n",
        "\n",
        "try:\n",
        "  urllib.request.urlretrieve(\"https://github.com/LAVI-USP/SEL0339-SEL5886_2024/raw/main/imagens/pratica_02/A.png\", \"A.png\")\n",
        "except:\n",
        "  print(\"[ERRO] Não foi possível fazer o download das imagens dessa prática. Entre em contato com o monitor\")\n",
        "\n",
        "try:\n",
        "  urllib.request.urlretrieve(\"https://github.com/LAVI-USP/SEL0339-SEL5886_2024/raw/main/imagens/pratica_02/B.png\", \"B.png\")\n",
        "except:\n",
        "  print(\"[ERRO] Não foi possível fazer o download das imagens dessa prática. Entre em contato com o monitor\")\n",
        "\n",
        "try:\n",
        "  urllib.request.urlretrieve(\"https://github.com/LAVI-USP/SEL0339-SEL5886_2024/raw/main/imagens/pratica_02/coins.jpg\", \"coins.jpg\")\n",
        "except:\n",
        "  print(\"[ERRO] Não foi possível fazer o download das imagens dessa prática. Entre em contato com o monitor\")\n",
        "\n",
        "try:\n",
        "  urllib.request.urlretrieve(\"https://github.com/LAVI-USP/SEL0339-SEL5886_2024/raw/main/imagens/pratica_02/shapes.png\", \"shapes.png\")\n",
        "except:\n",
        "  print(\"[ERRO] Não foi possível fazer o download das imagens dessa prática. Entre em contato com o monitor\")\n",
        "\n",
        "\n",
        "try:\n",
        "  urllib.request.urlretrieve(\"https://github.com/LAVI-USP/SEL0339-SEL5886_2024/raw/main/imagens/pratica_02/shapes_resultado.png\", \"shapes_resultado.png\")\n",
        "except:\n",
        "  print(\"[ERRO] Não foi possível fazer o download das imagens dessa prática. Entre em contato com o monitor\")\n",
        "\n",
        "try:\n",
        "  urllib.request.urlretrieve(\"https://github.com/LAVI-USP/SEL0339-SEL5886_2024/raw/main/imagens/pratica_02/texto.png\", \"texto.png\")\n",
        "except:\n",
        "  print(\"[ERRO] Não foi possível fazer o download das imagens dessa prática. Entre em contato com o monitor\")\n",
        "\n",
        "try:\n",
        "  urllib.request.urlretrieve(\"https://github.com/LAVI-USP/SEL0339-SEL5886_2024/raw/main/imagens/pratica_02/elefante.tif\", \"elefante.tif\")\n",
        "except:\n",
        "  print(\"[ERRO] Não foi possível fazer o download das imagens dessa prática. Entre em contato com o monitor\")\n",
        "\n",
        "try:\n",
        "  urllib.request.urlretrieve(\"https://github.com/LAVI-USP/SEL0339-SEL5886_2024/raw/main/imagens/pratica_02/card1.jpg\", \"card1.jpg\")\n",
        "except:\n",
        "  print(\"[ERRO] Não foi possível fazer o download das imagens dessa prática. Entre em contato com o monitor\")\n",
        "\n",
        "try:\n",
        "  urllib.request.urlretrieve(\"https://github.com/LAVI-USP/SEL0339-SEL5886_2024/raw/main/imagens/pratica_02/card2.png\", \"card2.png\")\n",
        "except:\n",
        "  print(\"[ERRO] Não foi possível fazer o download das imagens dessa prática. Entre em contato com o monitor\")\n",
        "\n",
        "try:\n",
        "  urllib.request.urlretrieve(\"https://github.com/LAVI-USP/SEL0339-SEL5886_2024/raw/main/imagens/pratica_02/card3.png\", \"card3.png\")\n",
        "except:\n",
        "  print(\"[ERRO] Não foi possível fazer o download das imagens dessa prática. Entre em contato com o monitor\")\n",
        "\n",
        "try:\n",
        "  urllib.request.urlretrieve(\"https://github.com/LAVI-USP/SEL0339-SEL5886_2024/raw/main/imagens/pratica_02/card4.jpg\", \"card4.jpg\")\n",
        "except:\n",
        "  print(\"[ERRO] Não foi possível fazer o download das imagens dessa prática. Entre em contato com o monitor\")\n",
        "\n",
        "try:\n",
        "  urllib.request.urlretrieve(\"https://github.com/LAVI-USP/SEL0339-SEL5886_2024/raw/main/imagens/pratica_02/ocr_a_reference.png\", \"ocr_a_reference.png\")\n",
        "except:\n",
        "  print(\"[ERRO] Não foi possível fazer o download das imagens dessa prática. Entre em contato com o monitor\")\n",
        "\n",
        "try:\n",
        "  urllib.request.urlretrieve(\"https://github.com/LAVI-USP/SEL0339-SEL5886_2024/raw/main/imagens/pratica_02/ocr_functions.py\", \"ocr_functions.py\")\n",
        "except:\n",
        "  print(\"[ERRO] Não foi possível fazer o download das imagens dessa prática. Entre em contato com o monitor\")"
      ],
      "execution_count": null,
      "outputs": []
    },
    {
      "cell_type": "markdown",
      "metadata": {
        "id": "IHz3lrkyumoo"
      },
      "source": [
        "### 1) Operações lógicas em imagens binárias\n",
        "\n",
        "Faça a leitura das imagens ```A.png``` e ```B.png```, transforme-as para o tipo binário (*logical*) e realize as operações abaixo. Mostre as imagens originais e todos os resultados utilizando *subplots*. Coloque título em cada uma delas. **Comente os resultados encontrados.**\n",
        "\n",
        "  *   União $A \\cup B$\n",
        "  *   Interseção $A \\cap B$\n",
        "  *   Diferença $A \\, – B$\n",
        "  *   Diferença $B \\, – A$\n",
        "\n",
        "**Dicas:**\n",
        "*  As funções [np.bitwise_xor](https://numpy.org/doc/stable/reference/generated/numpy.bitwise_xor.html), [np.bitwise_or](https://numpy.org/doc/stable/reference/generated/numpy.bitwise_or.html#numpy.bitwise_or) e [np.bitwise_and](https://numpy.org/doc/stable/reference/generated/numpy.bitwise_and.html#numpy.bitwise_and) podem ser úteis."
      ]
    },
    {
      "cell_type": "code",
      "metadata": {
        "id": "jWg6jEzMD3xN"
      },
      "source": [
        "## -- Seu código começa AQUI -- ##\n",
        "\n",
        "## -- Seu código termina AQUI -- ##\n",
        "\n",
        "## -- COMENTÁRIOS -- ##\n"
      ],
      "execution_count": null,
      "outputs": []
    },
    {
      "cell_type": "markdown",
      "metadata": {
        "id": "cOOMbcy_F_TV"
      },
      "source": [
        "### 2) Erosão\n",
        "\n",
        "A ideia básica de erosão é similar ao que ocorre com a erosão do solo, ela desgasta os limites do objeto em primeiro plano. Então o que isso faz? Ao deslizar o kernel pela imagem (como na convolução 2D - veja a imagem abaixo), um pixel na imagem original (1 ou 0) será considerado 1 apenas se todos os pixels sob o kernel forem 1, caso contrário, ele é \"erodido\" (reduzido a zero). Então o que acontece é que todos os pixels próximos ao limite serão descartados dependendo do tamanho do kernel. Portanto, a espessura ou o tamanho do objeto em primeiro plano diminui. Esta ferramenta é útil para remover pequenos ruídos brancos, destacar dois objetos conectados  etc.\" [1].\n",
        "\n",
        "<center><img src=\"https://github.com/LAVI-USP/SEL0339-SEL5886_2024/raw/main/imagens/pratica_02/erosao.gif\" width=\"640\" height=\"298\"></center>\n",
        "\n",
        "<center><caption><b> Figura 2:</b> Animação de uma operação morfológica de erosão.</b></caption></center>\n",
        "<caption><center> Referência: Peter Corke - <a href=\"https://www.youtube.com/watch?v=b5lgnNEzGeU\">Youtube</a>.</center></caption>\n",
        "\n",
        "**Exercício:**\n",
        "\n",
        "A imagem ```coins.jpg``` contém diversas moedas uma ao lado da outra. Suponha que você possua um algoritmo que consiga contar quantas moedas existem na imagem. No entanto, ele só consegue contar se a imagem estiver binarizada e, mais ainda, nela não haja conexão de uma moeda com a outra.\n",
        "1. Leia a imagem ```coins.jpg``` e a transforme para escala de cinza.\n",
        "2. Utilizando o método de OTSU, faça a binarização desta imagem.\n",
        "3. Investique um elemento estruturante adequado para realizar a erosão da imagem. Lembre-se: seu objetivo é separar as moedas para que o seu algoritmo de contagem consiga realizar o trabalho de contagem.\n",
        "4. Comente os resultados.\n",
        "\n",
        "\n",
        "Dicas:\n",
        "\n",
        "*  A função [cv.erode](https://docs.opencv.org/3.4/d4/d86/group__imgproc__filter.html#gaeb1e0c1033e3f6b891a25d0511362aeb) realiza a operação de erosão.\n",
        "*  Aqui está o [link](https://docs.opencv.org/master/d4/d86/group__imgproc__filter.html#gac2db39b56866583a95a5680313c314ad) onde são encontrados os elementos estruturantes pré-definidos disponíveis.\n",
        "*  A função [cv.getStructuringElement](https://docs.opencv.org/3.4/d4/d86/group__imgproc__filter.html#gac342a1bb6eabf6f55c803b09268e36dc) pode ser usada para gerar um elemento estruturante.\n",
        "*  Você pode, ainda, criar elementos estruturantes e passar como argumento para a função de erosão.\n",
        "\n",
        "\n",
        "``` python\n",
        "cv.erode(myImg, SE, iterations = 1)\n",
        "cv.getStructuringElement(cv.MORPH_CROSS,(5,5))\n",
        "```\n"
      ]
    },
    {
      "cell_type": "code",
      "metadata": {
        "id": "PrD4oic0GWqA"
      },
      "source": [
        "## -- Seu código começa AQUI -- ##\n",
        "\n",
        "## -- Seu código termina AQUI -- ##\n",
        "\n",
        "## -- COMENTÁRIOS -- ##\n"
      ],
      "execution_count": null,
      "outputs": []
    },
    {
      "cell_type": "markdown",
      "metadata": {
        "id": "MWAJLdx8zSTV"
      },
      "source": [
        "### 3) Dilatação\n",
        "\n",
        "Esta operação é exatamente o oposto da erosão. Aqui, um pixel se torna '1' se pelo menos um pixel sob o kernel for '1'. Portanto, aumenta a região branca na imagem ou o tamanho do objeto em primeiro plano (veja a imagem abaixo). Normalmente, em casos como remoção de ruído, a erosão é seguida de dilatação, porque a erosão remove os ruídos brancos, mas também diminui o objeto. Em seguida, é aplicada a dilatação para que o objeto retorne ao seu tamanho original, agora sem ruído. Também é útil para unir partes quebradas de um objeto. [1].\n",
        "\n",
        "<center><img src=\"https://github.com/LAVI-USP/SEL0339-SEL5886_2024/raw/main/imagens/pratica_02/dilatacao.gif\" width=\"640\" height=\"298\"></center>\n",
        "\n",
        "<center><caption><b> Figura 3: </b> Animação de uma operação morfológica de dilatação.</b></caption></center>\n",
        "<caption><center> Referência: Peter Corke - <a href=\"https://www.youtube.com/watch?v=3IJ8RFtlDLY\">Youtube</a>.</center></caption>\n",
        "\n",
        "\n",
        "**Exercício:**\n",
        "\n",
        "1. Carregue a imagem ```texto.png``` e faça a operação de dilatação utilizando o seguinte elemento estruturante (SE):\n",
        "\n",
        "\\begin{equation}\n",
        "SE =\n",
        "\\begin{bmatrix}\n",
        "1 & 0 & 1\\\\\n",
        "0 & 1 & 0\\\\\n",
        "1 & 0 & 1\n",
        "\\end{bmatrix}\n",
        "\\end{equation}\n",
        "\n",
        "Mostre a imagem original, o elemento estruturante e o resultado da dilatação.\n",
        "\n",
        "2. Gere os seguintes elementos estruturantes para dilatar a imagem. Mostre estes elementos estruturantes em *subplots*.\n",
        "\n",
        "  *   SE1: Elipse de tamanho 5;\n",
        "  *   SE2: Retângulo de tamanho 7;\n",
        "  *   SE3: Cruz de tamanho 11.\n",
        "\n",
        "3. Mostre as imagens resultantes da dilatação com os elementos estruturantes do ítem 2. Comente os resultados encontrados.\n",
        "\n",
        "4. Faça a erosão da imagem resultante da dilatação com o elemento estruturante SE1, agora com um elemento estruturante em forma de retângulo de tamanho 5.\n",
        "5. Subtraia a imagem original doo resultado do item 4. Comente os resultados.\n",
        "\n",
        "Dicas:\n",
        "\n",
        "*  A função [cv.dilate](https://docs.opencv.org/3.4/d4/d86/group__imgproc__filter.html#ga4ff0f3318642c4f469d0e11f242f3b6c) realiza a operação de dilatação.\n",
        "Aqui está o [link](https://docs.opencv.org/master/d4/d86/group__imgproc__filter.html#gac2db39b56866583a95a5680313c314ad) onde são encontrados os elementos estruturantes pré-definidos disponíveis.\n",
        "*  A função [cv.getStructuringElement](https://docs.opencv.org/master/d4/d86/group__imgproc__filter.html#gac342a1bb6eabf6f55c803b09268e36dc) gera os elementos estruturantes pré-definidos.  \n",
        "*  Você pode, ainda, criar elementos estruturantes e passar como argumento para a função de dilatação.\n",
        "\n",
        "``` python\n",
        "SE = cv.getStructuringElement(cv.MORPH_RECT,(Size,Size))\n",
        "cv.dilate(myImg, SE, iterations = 1)\n",
        "```"
      ]
    },
    {
      "cell_type": "code",
      "metadata": {
        "id": "KC7cTlFBxeOM"
      },
      "source": [
        "## -- Seu código começa AQUI -- ##\n",
        "\n",
        "## -- Seu código termina AQUI -- ##\n",
        "\n",
        "## -- COMENTÁRIOS -- ##\n"
      ],
      "execution_count": null,
      "outputs": []
    },
    {
      "cell_type": "markdown",
      "metadata": {
        "id": "5D3t2YekZzVk"
      },
      "source": [
        "### 4) Abertura e Fechamento\n",
        "\n",
        "\n",
        "Abertura é apenas um nome dado a operação de erosão seguida de dilatação. É útil na remoção de ruído, como no exemplo da figura abaixo.\n",
        "\n",
        "\n",
        "<center><img src=\"https://docs.opencv.org/master/opening.png\" width=\"224\" height=\"150\"></center>\n",
        "\n",
        "<center><caption><b> Figura 4: </b> Operação morfológica de abertura.</b></caption></center>\n",
        "<caption><center> Referência: OpenCV - <a href=\"https://docs.opencv.org/master/d9/d61/tutorial_py_morphological_ops.html\">Morphological Transformations</a>.</center></caption>\n",
        "\n",
        "O fechamento é o processo inverso da abertura, ou seja, dilatação seguida por erosão. É útil para fechar pequenos orifícios dentro dos objetos em primeiro plano ou pequenos pontos pretos no objeto.\n",
        "\n",
        "<center><img src=\"https://docs.opencv.org/master/closing.png\" width=\"224\" height=\"150\"></center>\n",
        "\n",
        "<center><caption><b> Figura 5: </b> Operação morfológica de fechamento.</b></caption></center>\n",
        "<caption><center> Referência: OpenCV - <a href=\"https://docs.opencv.org/master/d9/d61/tutorial_py_morphological_ops.html\">Morphological Transformations</a>.</center></caption>\n",
        "\n",
        "\n",
        "\n",
        "\n",
        "**Exercício:**\n",
        "\n",
        "1. Aplicar os seguintes filtros morfológicos na imagem ```shapes.png```:\n",
        "\n",
        "  *   Abertura, utilizando um elemento estruturante quadrado de largura 9;\n",
        "  *   Fechamento, com o mesmo elemento estruturante anterior.\n",
        "\n",
        "2. **Desafio!** Utilizando os conceitos praticados até agora:\n",
        "  * Proponha uma sequêcia de operações de modo que, a partir da imagem original ```shapes.png``` , o resultado seja uma imagem final conforme a imagem abaixo.\n",
        "<center><img src=\"https://github.com/LAVI-USP/SEL0339-SEL5886_2024/raw/main/imagens/pratica_02/shapes_resultado.png\" width=\"224\" height=\"150\"></center>\n",
        "<center><caption><b> Figura 6: </b> Resultado da sequência de operações aplicadas à imagem shapes.png</b></caption></center>\n",
        "\n",
        "\n",
        "  * Você pode usar tanto operações lógicas (conforme Exercício 1), quanto operações morfológicas.\n",
        "  * A imagem resultante foi disponibilizada (```shapes_resultado.png```). Seu formato é ```uint8``` e seu range vai de (0 a 255). Você deve usá-la somente para verificação do seu resultado. Ou seja, ao final, a imagem que você obtiver deve ser igual à imagem ```shapes_resultado.png```. Isso pode ser confirmado fazendo a subtração das imagens. O resultado da subtração deve ser uma imagem que tenha todos os seus elementos iguais a 0 (zero).\n",
        "  * Mostre em subplots as figuras resultantes das etapas de sua proposta. Coloque título em cada uma delas para melhor organização.\n",
        "\n",
        "\n",
        "**Dicas:**\n",
        "*  A função [cv.morphologyEx](https://docs.opencv.org/master/d4/d86/group__imgproc__filter.html#ga67493776e3ad1a3df63883829375201f) realiza diversas operações de morfologia. Os diferentes tipos de operações podem ser consultados [aqui](https://docs.opencv.org/master/d4/d86/group__imgproc__filter.html#ga7be549266bad7b2e6a04db49827f9f32).\n",
        "\n",
        "\n",
        "``` python\n",
        "cv.morphologyEx(myImg, cv.MORPH_OPEN , SE)\n",
        "cv.morphologyEx(myImg, cv.MORPH_CLOSE, SE)\n",
        "```"
      ]
    },
    {
      "cell_type": "code",
      "metadata": {
        "id": "n4oOLWudEGvj"
      },
      "source": [
        "## -- Seu código começa AQUI -- ##\n",
        "\n",
        "\n",
        "\n",
        "## -- Seu código termina AQUI -- ##\n",
        "\n",
        "## -- COMENTÁRIOS -- ##\n",
        "\n"
      ],
      "execution_count": null,
      "outputs": []
    },
    {
      "cell_type": "markdown",
      "metadata": {
        "id": "3-KPx5I8Y7CE"
      },
      "source": [
        "### 5) Hit or Miss\n",
        "\n",
        "A transformação Hit-or-Miss é útil para encontrar padrões em imagens binárias. Em particular, ela encontra aqueles pixels cuja vizinhança corresponde à forma de um primeiro elemento estruturante (B1) enquanto não corresponde à forma de um segundo elemento estruturante (B2), ao mesmo tempo.\n",
        "Uma outra forma de interpretar é que você deseja que os elementos \"brancos\" sejam correspondentes a B1, e que os elementos \"pretos\" (background) seja correspondente a B2.\n",
        "Matematicamente, a operação aplicada a uma imagem A pode ser expressa da seguinte forma:\n",
        "\n",
        "\\begin{equation}\n",
        "A⊛B = (A⊖B_1)∩(A^C⊖B_2)\n",
        "\\end{equation}\n",
        "\n",
        "Portanto, a operação Hit-or-Miss pode ser feita em 3 passos:\n",
        "\n",
        "1. Erosão da imagem A com o elemento estruturante B1.\n",
        "2. Erosão do complemento da imagem A com o elemento estruturante B2.\n",
        "3. AND (lógico) dos resultados de 1 e 2.\n",
        "\n",
        "Abaixo, veja um exemplo de elementos estruturantes, B1 e B2.\n",
        "<center><img src=\"https://github.com/LAVI-USP/SEL0339-SEL5886_2024/raw/main/imagens/pratica_02/hit-miss_exemplos_SEelements.png\" width=\"224\" height=\"150\"></center>\n",
        "<center><caption><b> Figura 7: </b> Elementos estruturais B1 e B2.</b></caption></center>\n",
        "\n",
        "Nesse caso, queremos achar um elemento cujos pixels norte, sul, leste e oeste (B1) sejam \"brancos\" e  cujo pixel central seja preto (pertencente ao background). Aplicando estes elementos por meio  da transformada hit-or-miss a uma imagem de entrada:\n",
        "<center><img src=\"https://github.com/LAVI-USP/SEL0339-SEL5886_2024/raw/main/imagens/pratica_02/hit-miss_exemplos_inputimage.png\" width=\"250\" height=\"250\"></center>\n",
        "<center><caption><b> Figura 8: </b> Imagem de entrada.</b></caption></center>\n",
        "\n",
        "<center><img src=\"https://github.com/LAVI-USP/SEL0339-SEL5886_2024/raw/main/imagens/pratica_02/hit-miss_exemplos_outputimage.png\" width=\"250\" height=\"250\"></center>\n",
        "<center><caption><b> Figura 9: </b> Imagem de saída, pós aplicação da transformação hit-or-miss.</b></caption></center>\n",
        "\n",
        "\n",
        "\n",
        "Veja que, quando as condições mencionadas são satisfeitas, o resultado é uma imagem que indica o pixel central do elemento encontrado.\n",
        "\n",
        "\n",
        "**5.1)** No código abaixo, foi fornecida uma matriz, representando uma imagem. Você deseja encontrar **somente** a letra T da parte inferior direita. Utilizando os conceitos de hit-or-miss, proponha a utilização de 2 elementos estruturantes e aplique na imagem. Mostre os resultados e comente.\n",
        "\n",
        "\n",
        "**5.2)** A imagem ```shapes.png```possui um quadrado branco, localizado na parte direita da imagem. Você deseja encontrar **somente** este quadrado. (O quadrado possui tamanho 7x7). Utilizando os conceitos de hit-or-miss, proponha a utilização de 2 elementos estruturantes e aplique na imagem. Mostre os resultados e comente.\n",
        "\n",
        "**Dica:** Lembre-se de que você tem \"considerar\" o background arredor do seu quadrado.\n",
        "\n"
      ]
    },
    {
      "cell_type": "code",
      "metadata": {
        "id": "oYt-hFICY7Og"
      },
      "source": [
        "# 5.1\n",
        "imagem = np.array((\n",
        "    [0, 0, 0, 0, 0, 0, 0, 0],\n",
        "    [0, 255, 255, 255, 0, 0, 0, 255],\n",
        "    [0, 0, 255, 255, 0, 0, 0, 0],\n",
        "    [0, 0, 255, 255, 0, 0, 0, 0],\n",
        "    [0, 0, 0, 0, 0, 0, 0, 0],\n",
        "    [0, 255, 255, 0, 0, 255, 255, 255],\n",
        "    [0,255, 0, 0, 0, 0, 255, 0],\n",
        "    [0, 255, 0, 0, 0, 0, 255, 0]), dtype=\"uint8\")\n",
        "\n",
        "## -- Seu código começa AQUI -- ##\n",
        "\n",
        "\n",
        "\n",
        "## -- Seu código termina AQUI -- ##\n",
        "\n",
        "## -- COMENTÁRIOS -- ##"
      ],
      "execution_count": null,
      "outputs": []
    },
    {
      "cell_type": "code",
      "source": [
        "#5.2\n",
        "## -- Seu código começa AQUI -- ##\n",
        "\n",
        "\n",
        "\n",
        "## -- Seu código termina AQUI -- ##\n",
        "\n",
        "## -- COMENTÁRIOS -- ##"
      ],
      "metadata": {
        "id": "CTUMdvbAvC6Z"
      },
      "execution_count": null,
      "outputs": []
    },
    {
      "cell_type": "markdown",
      "metadata": {
        "id": "sAEubcGqO5gG"
      },
      "source": [
        "### 6) Aplicação\n",
        "\n",
        "Você foi contratado por uma empresa de *e-commerce* para facilitar a vida de seus clientes ao inserir as informações do cartão de crédito no momento da compra. Você deve desenvolver um aplicativo de celular que irá utilizar a câmera e assim o usuário apontará para seu cartão e você deverá fazer a leitura dos números por meio de técnicas de visão computacional.\n",
        "\n",
        "<center><img src=\"https://github.com/LAVI-USP/SEL0339-SEL5886_2024/raw/main/imagens/pratica_02/card1.jpg\" width=\"224\" height=\"150\"></center>\n",
        "\n",
        "<center><caption><b> Figura 10: </b> Cartão de crédito.</b></caption></center>\n",
        "\n",
        "Para isto, vamos utilizar técnicas para o Reconhecimento Ótico de Caracteres (*Optical Character Recognition* - [OCR](https://en.wikipedia.org/wiki/Optical_character_recognition)). Perceba que este método utiliza técnicas convencionais de visão computacional, tais como: operações morfológicas, métodos de segmentação e classificação por comparação de templates. Naturalmente, o método tem suas limitações e você observará isso.\n",
        "\n",
        "**Exercício:**\n",
        "\n",
        "1. Faça a leitura da imagem ```card1.jpg```, converta-a para o tamanho $altura:189 \\times largura:300$. Em seguida converta-a para nível de cinza.\n",
        "\n",
        "2. Crie dois elementos estruturantes que iremos utilizar:\n",
        "\n",
        "  *   Retângulo de tamanho 9x3;\n",
        "  *   Quadrado de tamanho 5x5.\n",
        "\n",
        "3. Após a operação de segmentação por Otsu, observe que os números foram segmentados corretamente. No entanto, diversas outras coisas também foram. Para que possamos identificar de maneira correta os 4 grupos de 4 números, utilize a operação morfológica de fechamento para juntar o grupo de 4 números em um só, criando assim uma máscara:\n",
        "\n",
        "   *   Aplique uma operação de **fechamento** com o SE retangular na imagem ```thresh```;\n",
        "   *   Aplique uma operação de **fechamento** com o SE quadrado na imagem resultante da operação anterior. Atribua esse resultado a uma variável chamada ```mask```.\n",
        "\n",
        "5. Por fim, mostre o resultado gerado pela função ```ocr.find_card_numbers```.\n",
        "\n",
        "4. Três diferentes imagens de cartões de créditos são fornecidas. Teste-as e conclua algo sobre o resultado delas. Sinta-se à vontade para buscar outras imagens na internet e testar os resultados.\n",
        "\n",
        "Referência:\n",
        "\n",
        "*   Credit Card OCR with OpenCV and Python - [Pyimagesearch](https://www.pyimagesearch.com/2017/07/17/credit-card-ocr-with-opencv-and-python/).\n",
        "\n",
        "\n",
        "**Dicas:**\n",
        "\n",
        "*  Os nomes das variáveis já estão escritas no código. Utilize essa mesma nomenclatura pois algumas funções já escritas dependem destas variáveis. Escreva seu código os estão as palavras ```None```.\n",
        "\n",
        "*  Fique atento às indicações onde seu código deve começar e terminar. Não altere as funções fora das indicações.\n",
        "\n",
        "*  Caso você tenha interesse em saber como está sendo feita a classificação, visite o blog mencionado nas referências e também o código ```ocr_functions.py```."
      ]
    },
    {
      "cell_type": "code",
      "source": [
        "# O nome das diversas imagens:\n",
        "# | \"card2.png\" | \"card3.png\" | \"card4.jpg\" |\n",
        "\n",
        "from ocr_functions import ocr_Helper\n",
        "\n",
        "# Função que nos auxiliará a classificar os dígitos\n",
        "ocr = ocr_Helper()\n",
        "\n",
        "## -- Seu código começa AQUI -- ##\n",
        "\n",
        "\n",
        "## -- Seu código termina AQUI -- ##\n",
        "\n",
        "#VOCÊ PODE TROCAR O NOME DA VARIÁVEL image_rgb_resize NA LINHA ABAIXO.\n",
        "#PARA QUE SEJA IGUAL À QUE COLOCOU NA SUA PARTE DO CÓDIGO ACIMA.\n",
        "\n",
        "image_rgb = image_rgb_resize\n",
        "\n",
        "\n",
        "# Operação morfológica que resulta na diferença entre uma abertura e a\n",
        "# imagem original.\n",
        "\n",
        "#VOCÊ PODE TROCAR O NOME DA VARIÁVEL image_gray NA LINHA ABAIXO.\n",
        "#PARA QUE SEJA IGUAL À QUE COLOCOU NA SUA PARTE DO CÓDIGO ACIMA.\n",
        "\n",
        "tophat = cv.morphologyEx(image_gray, cv.MORPH_TOPHAT, kernel_rect)\n",
        "\n",
        "plt.figure(figsize=(10,5))\n",
        "plt.imshow(tophat,cmap='gray')\n",
        "plt.show()\n",
        "\n",
        "# Segmentação pelo método de Otsu\n",
        "thresh = cv.threshold(tophat, 0, 255,cv.THRESH_BINARY | cv.THRESH_OTSU)[1]\n",
        "plt.figure(figsize=(10,5))\n",
        "plt.imshow(thresh,cmap='gray')\n",
        "plt.show()\n",
        "\n",
        "## -- Seu código começa AQUI -- ##\n",
        "\n",
        "## -- Seu código termina AQUI -- ##\n",
        "\n",
        "\n",
        "# O identificador possui algumas condições para ser eficiente, como a fonte dos números do cartão não corresponderem à OCR, causando erro na identificação.\n",
        "# Também pode confundir outras informações do cartão com o número em si (caso em que as fontes são próximas).\n",
        "\n",
        "\n",
        "image_out = ocr.find_card_numbers(image_rgb, image_gray, mask)\n",
        "\n",
        "\n",
        "## -- Seu código começa AQUI -- ##\n",
        "# Mostrar a imagem \"image_out\" aqui\n",
        "## -- Seu código começa AQUI -- ##"
      ],
      "metadata": {
        "id": "DjhMComCf6Z8"
      },
      "execution_count": null,
      "outputs": []
    }
  ]
}