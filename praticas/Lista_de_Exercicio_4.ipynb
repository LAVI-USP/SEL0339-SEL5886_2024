{
 "cells": [
  {
   "cell_type": "markdown",
   "metadata": {
    "id": "kGlmyFQMaR-U"
   },
   "source": [
    "# Lista de Exercício 4\n",
    "### Introdução à Visão Computacional (SEL0339/SEL5886)\n",
    "\n",
    "**Instruções:**\n",
    "\n",
    " 1. Esta lista consiste de 5 exercícios.\n",
    " 1. Deve-se colocar comentários nos códigos desenvolvidos.\n",
    " 1. As perguntas devem ser respondidas também como comentários no arquivo.\n",
    " 1. Colocar seu nome e número USP abaixo.\n",
    " 1. Quaisquer problemas na execução das listas, entrar em contato com os monitores.\n",
    " 1. Depois de terminado os exercícios, deve ser gerado um arquivo **extensão .ipynb** para ser enviado ao professor pelo E-DISCIPLINAS da disciplina até a data máxima de entrega.\n",
    " 1. Caso não seja enviado, o aluno ficará sem nota.\n",
    "\n",
    "\n",
    "---\n",
    "\n",
    "\n",
    " <table class=\"tfo-notebook-buttons\" align=\"left\">\n",
    "  <td>\n",
    "    <a target=\"_blank\" href=\"https://colab.research.google.com/github/LAVI-USP/SEL0339-SEL5886_2024/blob/main/praticas/Lista_de_Exercicio_4.ipynb\"><img src=\"https://www.tensorflow.org/images/colab_logo_32px.png\" />Executar no Google Colab</a>\n",
    "  </td>\n",
    "  <td>\n",
    "    <a target=\"_blank\" href=\"https://github.com/LAVI-USP/SEL0339-SEL5886_2024/blob/main/praticas/Lista_de_Exercicio_4.ipynb\"><img src=\"https://www.tensorflow.org/images/GitHub-Mark-32px.png\" />Ver codigo fonte no GitHub</a>\n",
    "  </td>\n",
    "</table>\n"
   ]
  },
  {
   "cell_type": "markdown",
   "metadata": {
    "id": "L3qYz1dB-tlT"
   },
   "source": [
    "`Nome: `\n",
    "\n",
    "`Número USP: `"
   ]
  },
  {
   "cell_type": "markdown",
   "metadata": {
    "id": "b9uBe7nevota"
   },
   "source": [
    "### Introdução:\n",
    "\n",
    "\n",
    "Vamos importar as bibliotecas que iremos utilizar:"
   ]
  },
  {
   "cell_type": "markdown",
   "metadata": {
    "id": "kCpGE_Igj0nX"
   },
   "source": []
  },
  {
   "cell_type": "code",
   "execution_count": null,
   "metadata": {
    "id": "xnKV2As4aCX1"
   },
   "outputs": [],
   "source": [
    "import numpy as np\n",
    "import matplotlib.pyplot as plt\n",
    "import cv2 as cv\n",
    "import pandas as pd\n",
    "\n",
    "from skimage.feature import local_binary_pattern"
   ]
  },
  {
   "cell_type": "markdown",
   "metadata": {
    "id": "NyvxHviMpShq"
   },
   "source": [
    "#### **Atenção**: os códigos abaixo são para fazer o download das imagens (EXECUTE-OS). Os mesmos não fazem parte dessa prática."
   ]
  },
  {
   "cell_type": "code",
   "execution_count": null,
   "metadata": {
    "id": "Amk5CM273Afp"
   },
   "outputs": [],
   "source": [
    "import urllib.request\n",
    "\n",
    "try:\n",
    "  urllib.request.urlretrieve(\"https://github.com/LAVI-USP/SEL0339-SEL5886_2024/raw/main/imagens/pratica_04/triangulo.png\", \"triangulo.png\")\n",
    "except:\n",
    "  print(\"[ERRO] Não foi possível fazer o download das imagens dessa prática. Entre em contato com o monitor\")\n",
    "\n",
    "try:\n",
    "  urllib.request.urlretrieve(\"https://github.com/LAVI-USP/SEL0339-SEL5886_2024/raw/main/imagens/pratica_04/estrela.png\", \"estrela.png\")\n",
    "except:\n",
    "  print(\"[ERRO] Não foi possível fazer o download das imagens dessa prática. Entre em contato com o monitor\")\n",
    "\n",
    "try:\n",
    "  urllib.request.urlretrieve(\"https://github.com/LAVI-USP/SEL0339-SEL5886_2024/raw/main/imagens/pratica_04/folha_ferrugem.png\", \"folha_ferrugem.png\")\n",
    "except:\n",
    "  print(\"[ERRO] Não foi possível fazer o download das imagens dessa prática. Entre em contato com o monitor\")\n",
    "\n",
    "\n",
    "try:\n",
    "  urllib.request.urlretrieve(\"https://github.com/LAVI-USP/SEL0339-SEL5886_2024/raw/main/imagens/pratica_04/folha_saudavel.png\", \"folha_saudavel.png\")\n",
    "except:\n",
    "  print(\"[ERRO] Não foi possível fazer o download das imagens dessa prática. Entre em contato com o monitor\")\n",
    "\n",
    "try:\n",
    "  urllib.request.urlretrieve(\"https://github.com/LAVI-USP/SEL0339-SEL5886_2024/raw/main/imagens/pratica_04/guitarra.png\", \"guitarra.png\")\n",
    "except:\n",
    "  print(\"[ERRO] Não foi possível fazer o download das imagens dessa prática. Entre em contato com o monitor\")\n",
    "\n",
    "try:\n",
    "  urllib.request.urlretrieve(\"https://github.com/LAVI-USP/SEL0339-SEL5886_2024/raw/main/imagens/pratica_04/banjo.png\", \"banjo.png\")\n",
    "except:\n",
    "  print(\"[ERRO] Não foi possível fazer o download das imagens dessa prática. Entre em contato com o monitor\")\n",
    "\n",
    "try:\n",
    "  urllib.request.urlretrieve(\"https://github.com/LAVI-USP/SEL0339-SEL5886_2024/raw/main/imagens/pratica_04/violao.png\", \"violao.png\")\n",
    "except:\n",
    "  print(\"[ERRO] Não foi possível fazer o download das imagens dessa prática. Entre em contato com o monitor\")\n",
    "\n",
    "try:\n",
    "  urllib.request.urlretrieve(\"https://github.com/LAVI-USP/SEL0339-SEL5886_2024/raw/main/imagens/pratica_04/tex3.tiff\", \"tex3.tiff\")\n",
    "except:\n",
    "  print(\"[ERRO] Não foi possível fazer o download das imagens dessa prática. Entre em contato com o monitor\")\n",
    "\n",
    "try:\n",
    "  urllib.request.urlretrieve(\"https://github.com/LAVI-USP/SEL0339-SEL5886_2024/raw/main/imagens/pratica_04/tex2.tiff\", \"tex2.tiff\")\n",
    "except:\n",
    "  print(\"[ERRO] Não foi possível fazer o download das imagens dessa prática. Entre em contato com o monitor\")\n",
    "\n",
    "try:\n",
    "  urllib.request.urlretrieve(\"https://github.com/LAVI-USP/SEL0339-SEL5886_2024/raw/main/imagens/pratica_04/tex1.tiff\", \"tex1.tiff\")\n",
    "except:\n",
    "  print(\"[ERRO] Não foi possível fazer o download das imagens dessa prática. Entre em contato com o monitor\")\n",
    "\n",
    "try:\n",
    "  urllib.request.urlretrieve(\"https://github.com/LAVI-USP/SEL0339-SEL5886_2024/raw/main/imagens/pratica_04/tex4.tiff\", \"tex4.tiff\")\n",
    "except:\n",
    "  print(\"[ERRO] Não foi possível fazer o download das imagens dessa prática. Entre em contato com o monitor\")\n",
    "\n",
    "try:\n",
    "  urllib.request.urlretrieve(\"https://github.com/LAVI-USP/SEL0339-SEL5886_2024/raw/main/imagens/pratica_04/circulo1.tif\", \"circulo1.tif\")\n",
    "except:\n",
    "  print(\"[ERRO] Não foi possível fazer o download das imagens dessa prática. Entre em contato com o monitor\")\n",
    "\n",
    "try:\n",
    "  urllib.request.urlretrieve(\"https://github.com/LAVI-USP/SEL0339-SEL5886_2024/raw/main/imagens/pratica_04/circulo2.tif\", \"circulo2.tif\")\n",
    "except:\n",
    "  print(\"[ERRO] Não foi possível fazer o download das imagens dessa prática. Entre em contato com o monitor\")\n",
    "\n",
    "try:\n",
    "  urllib.request.urlretrieve(\"https://github.com/LAVI-USP/SEL0339-SEL5886_2024/raw/main/imagens/pratica_04/quadrado1.tif\", \"quadrado1.tif\")\n",
    "except:\n",
    "  print(\"[ERRO] Não foi possível fazer o download das imagens dessa prática. Entre em contato com o monitor\")\n",
    "\n",
    "try:\n",
    "  urllib.request.urlretrieve(\"https://github.com/LAVI-USP/SEL0339-SEL5886_2024/raw/main/imagens/pratica_04/quadrado2.tif\", \"quadrado2.tif\")\n",
    "except:\n",
    "  print(\"[ERRO] Não foi possível fazer o download das imagens dessa prática. Entre em contato com o monitor\")\n",
    "\n"
   ]
  },
  {
   "cell_type": "markdown",
   "metadata": {
    "id": "fvHo7Slr5Jn4"
   },
   "source": [
    "### 1) Momentos (Nota: 1.5/10)\n",
    "\n",
    "A equação generalizada para o cálculo do momento $m_{pq}$ é dada por:\n",
    "\n",
    "\\begin{equation}\n",
    "m_{pq} = \\int_{-\\infty}^{\\infty}\\int_{-\\infty}^{\\infty} x^p y^q \\, f(x,y) \\, dx dy, \\end{equation}\n",
    "\n",
    "onde $f(x,y)$ é a imagem, $x$ e $y$ suas respectivas coordenadas. Seguindo a teoria de momentos, as coordenadas do centro de massa normalizado de um objeto podem ser determinadas utilizando as seguintes equações:\n",
    "\n",
    "\\begin{equation}\n",
    "  \\bar{x} = \\frac{m_{10}}{m_{00}}\n",
    "  \\;\\;\\;\n",
    "  \\bar{y} = \\frac{m_{01}}{m_{00}}\n",
    "\\end{equation}\n",
    "\n",
    "<center><figure class=\"half\" style=\"display:flex\">\n",
    "    <img width=\"256\" src=\"https://github.com/LAVI-USP/SEL0339-SEL5886_2024/raw/main/imagens/pratica_04/triangulo.png\">\n",
    "    <img width=\"256\" src=\"https://github.com/LAVI-USP/SEL0339-SEL5886_2024/raw/main/imagens/pratica_04/estrela.png\">\n",
    "    <figcaption><b> Figura 1: </b> Da esquerda para a direita: <i>triangulo.png</i> e <i>estrela.png</i>.</b></figcaption>\n",
    "</figure></center>\n",
    "\n",
    "**Exercício:**\n",
    "\n",
    "1. Construa uma função chamada `momentos` que, dado uma imagem de entrada, retorne todos os momentos $m_{pq}$, com p e q variando de 0 a 1, isto é, que compute os 4 momentos: $m_{00}$, $m_{01}$, $m_{10}$ e $m_{11}$;\n",
    "\n",
    "2. Utilizando a função `momentos` e o equacionamento descrito acima, determine as coordenadas do centro de massa dos objetos das figuras `triangulo.png` e `estrela.png`.\n",
    "\n",
    "3. Plote um '+' no centro de massa, utilizando `plt.plot` após mostrar a imagem.\n",
    "``` python\n",
    "# Mostra a imagem\n",
    "plt.imshow(myImg, 'gray')\n",
    "# Coloca um '+' no centro de massa\n",
    "plt.plot(ic, jc, '+')\n",
    "```\n",
    "\n",
    "3. Rotacione a imagem `triangulo.png` em $90^{\\circ}$ no sentido horário.\n",
    "  * Para rotacionar a imagem, utilize a função [cv.rotate] passando como argumento `cv.ROTATE_90_CLOCKWISE`\n",
    "``` python\n",
    "myImg_rot = cv.rotate(myImg, cv.ROTATE_180)\n",
    "```\n",
    "\n",
    "4. Repita o procedimento dos itens 2 e 3. Comente a respeito.\n"
   ]
  },
  {
   "cell_type": "code",
   "execution_count": null,
   "metadata": {
    "id": "dKdU8VALibVW"
   },
   "outputs": [],
   "source": [
    "## -- Seu código começa AQUI -- ##\n",
    "\n",
    "## -- Seu código termina AQUI -- ##\n",
    "\n",
    "## -- COMENTÁRIOS -- ##"
   ]
  },
  {
   "cell_type": "markdown",
   "metadata": {
    "id": "qtoHQgKPBAYn"
   },
   "source": [
    "### 2) Momentos invariantes de Hu (Nota: 2.0/10)\n",
    "\n",
    "</figure></center>\n",
    "\n",
    "**Exercício:**\n",
    "\n",
    "1. Binarizar as imagens `guitarra.png` e `banjo.png` pelo método de Otsu. Assegure-se que o objeto seja representado como valor alto (branco) e o fundo como valor baixo (preto).\n",
    "\n",
    "2. Realize as seguintes operações sobre a imagem:\n",
    "\n",
    "  *   Transladar a imagem em 500 pixels, tanto no eixo x quanto no eixo y;\n",
    "  *   Rotacionar a imagem em $270^{\\circ}$ no sentido horário.\n",
    "\n",
    "3. Calcular os momentos invariantes de Hu de ambas as imagens e de suas respectivas imagens resultantes após as transformações aplicadas no item 2;\n",
    "\n",
    "4. Compare os momentos de Hu de cada imagem original com as suas versões após as operações.\n",
    "\n",
    "5. Agora, binarize a imagem `violao.png` pelo método de Otsu. Assegure-se que o objeto seja representado como valor alto (branco) e o fundo como valor baixo (preto).\n",
    "\n",
    "6. Calcular os momentos invariantes de Hu dessa imagem.\n",
    "\n",
    "7. Calcule a distância euclidiana entre os vetores de momentos de Hu da imagem do violão em relação à da guitarra e do banjo (pode ser antes das operações). Com base nos resultados, os momentos de Hu foram discriminantes? Comente a respeito.\n",
    "\n",
    "Dicas:\n",
    "\n",
    "*  Utilize a função [cv.HuMoments](https://docs.opencv.org/3.4/d3/dc0/group__imgproc__shape.html#gab001db45c1f1af6cbdbe64df04c4e944) para calcular os 7 momentos invariantes de Hu. Para isso, primeiramente você precisa calcular os todos os momentos até a terceira ordem através da função [cv.moments](https://docs.opencv.org/3.4/d3/dc0/group__imgproc__shape.html#ga556a180f43cab22649c23ada36a8a139).\n",
    "``` python\n",
    "moments = cv.moments(myImg)\n",
    "HuMoments = cv.HuMoments(moments)\n",
    "```\n",
    "\n",
    "* Utilize a função [np.linalg.norm](https://numpy.org/doc/stable/reference/generated/numpy.linalg.norm.html) da biblioteca `numpy.linalg` para calcular a distância entre os vetores.\n",
    "``` python\n",
    "L2_distance = np.linalg.norm(momentos_de_HU_1 - momentos_de_HU_2)\n",
    "```\n",
    "\n",
    "\n",
    "* Para rotacionar a imagem, utilize a função [cv.rotate] passando como argumento `cv.ROTATE_90_COUNTERCLOCKWISE`\n",
    "``` python\n",
    "myImg_rot = cv.rotate(myImg, cv.ROTATE_90_COUNTERCLOCKWISE)\n",
    "```\n",
    "\n",
    "* Para transladar a imagem, utilize a função [cv.warpAffine] passando como argumento as dimensões da imagem e uma matrix T, em que `PxX` e `PxY` correspondem às quantidades de pixel em cada dimensão.\n",
    "``` python\n",
    "height, width = img.shape[:2]\n",
    "T = np.float32([[1, 0, PxX], [0, 1, PxY]])\n",
    "img_translad = cv.warpAffine(img, T, (width, height))\n",
    "```"
   ]
  },
  {
   "cell_type": "code",
   "execution_count": null,
   "metadata": {
    "id": "VNMP2eetd4gf"
   },
   "outputs": [],
   "source": [
    "## -- Seu código começa AQUI -- ##\n",
    "\n",
    "## -- Seu código termina AQUI -- ##\n",
    "\n",
    "## -- COMENTÁRIOS -- ##"
   ]
  },
  {
   "cell_type": "markdown",
   "metadata": {
    "id": "j9z00MHmByzu"
   },
   "source": [
    "### 3) Assinaturas (Nota: 2.0/10)\n",
    "\n",
    "<center><figure class=\"half\" style=\"display:flex\">\n",
    "    <img width=\"128\" src=\"https://github.com/LAVI-USP/SEL0339-SEL5886_2024/raw/main/imagens/pratica_04/circulo1.png\">\n",
    "    <img width=\"128\" src=\"https://github.com/LAVI-USP/SEL0339-SEL5886_2024/raw/main/imagens/pratica_04/circulo2.png\">\n",
    "    <img width=\"128\" src=\"https://github.com/LAVI-USP/SEL0339-SEL5886_2024/raw/main/imagens/pratica_04/quadrado1.png\">\n",
    "    <img width=\"128\" src=\"https://github.com/LAVI-USP/SEL0339-SEL5886_2024/raw/main/imagens/pratica_04/quadrado2.png\">\n",
    "    <figcaption><b> Figura 3: </b> Da esquerda para a direita: <i>circulo1.tif</i>, <i>circulo2.tif</i>, <i>quadrado1.tif</i> e <i>quadrado2.tif</i>.</b></figcaption>\n",
    "</figure></center>\n",
    "\n",
    "**Exercício:**\n",
    "\n",
    "1. Utilize a função chamada `assinatura` que plota a assinatura de um contorno a partir do seu centro de massa ($\\bar{x}$   e $\\bar{y}$ calculados no exercício 1);\n",
    "\n",
    "2. Aplique essa função para as imagens:\n",
    "\n",
    "  *   `circulo1.tif`\n",
    "  *   `circulo2.tif`\n",
    "  *   `quadrado1.tif`\n",
    "  *   `quadrado2.tif`\n",
    "\n",
    "3. Mostre o resultado utilizando um `subplot` de tamanho (1,2), onde o primeiro deve mostrar a imagem original e o segundo a respectiva assinatura.\n",
    "  * Estipule os valores de escala mostrados abaixo (função `plt.axis`) para os eixos `rho` e `theta` ao plotar cada uma das assinaturas.\n",
    "  ```python\n",
    "  plt.plot(theta,rho,'.')\n",
    "  plt.axis([-180, 180, 0, 150])\n",
    "  plt.show()\n",
    "  ```\n",
    "\n",
    "\n",
    "4. Além disso, plote um '+' no centro de massa da imagem.\n",
    "\n",
    "5. Compare e comente os resultados obtidos.\n",
    "\n",
    "6. Com base nos resultados referente aos círculos, o que se pode concluir em relação à função assinatura e a forma como detecta a borda/fronteira do objeto?\n",
    "\n",
    "<b>Dicas:</b>\n",
    "\n",
    "\n",
    "* Mostre o *plote* da assinatura com \"pontos\", utilizando a função `plt.plot` com o argumento ` '.' ` . Veja o exemplo abaixo.\n",
    "``` python\n",
    "rho,theta = assinatura(img,cX,cY)\n",
    "plt.plot(rho,theta,'.')\n",
    "```\n",
    "\n",
    "* Para colocar um '+' no centro de massa, utilize um `plt.plot` após mostrar a imagem.\n",
    "``` python\n",
    "# Mostra a imagem\n",
    "plt.imshow(myImg, 'gray')\n",
    "# Coloca um '+' no centro de massa\n",
    "plt.plot(ic, jc, '+')\n",
    "```\n"
   ]
  },
  {
   "cell_type": "code",
   "execution_count": null,
   "metadata": {
    "id": "AfmP2aEfEz3c"
   },
   "outputs": [],
   "source": [
    "def assinatura(img, ic, jc):\n",
    "  '''\n",
    "  Descrição: Cria assinatura para uma imagem.\n",
    "\n",
    "  Entrada:\n",
    "    - img: Imagem de entrada (uint8).\n",
    "    - ic: Coordenada X do centro de massa normalizado (uint8).\n",
    "    - jc: Coordenada Y do centro de massa normalizado (uint8).\n",
    "\n",
    "  Saída:\n",
    "    - rho: Coordenadas polar (rho) dos pontos [range=0:img.shape[0]*np.sqrt(2)/2].\n",
    "    - theta: Coordenadas polar (theta) dos pontos [range=-180:180].\n",
    "  '''\n",
    "  # Sistema de coordenadas\n",
    "  # .__> jj (y)\n",
    "  # |\n",
    "  # v\n",
    "  # ii (x)\n",
    "\n",
    "  # Teste de insanidade\n",
    "  if img.ndim != 2:\n",
    "    raise ValueError('Imagem deve ter 2 dimensões.')\n",
    "\n",
    "  # Varre a imagem, determinando as coordenadas dos pontos brancos\n",
    "\n",
    "  contours, hierarchy = cv.findContours(image=img, mode=cv.RETR_TREE, method=cv.CHAIN_APPROX_NONE)\n",
    "\n",
    "  # Translada a origem do sistema de coordenadas para o centro de massa\n",
    "\n",
    "  img_copy = np.zeros(img.shape)\n",
    "\n",
    "  cv.drawContours(image=img_copy, contours=contours, contourIdx=1, color=(255, 255, 255), thickness=1, lineType=cv.LINE_AA)\n",
    "\n",
    "\n",
    "  ii,jj = np.nonzero(img_copy)\n",
    "  ii -= np.int(ic)\n",
    "  jj -= np.int(jc)\n",
    "  # Converte as novas coordenadas cartesianas para coordenadas polares\n",
    "  rho = np.sqrt(ii**2 + jj**2)\n",
    "  theta = np.rad2deg(np.arctan2(jj, ii))\n",
    "\n",
    "  return rho, theta\n",
    "\n",
    "## -- Seu código começa AQUI -- ##\n",
    "\n",
    "\n",
    "\n",
    "## -- Seu código termina AQUI -- ##\n",
    "\n",
    "## -- COMENTÁRIOS -- ##"
   ]
  },
  {
   "cell_type": "markdown",
   "metadata": {
    "id": "gCkpXMMVIWxR"
   },
   "source": [
    "\n",
    "### 4) *Local Binnary Patterns* (LBP) (Nota: 2.0/10)\n",
    "\n",
    "<center><figure class=\"half\" style=\"display:flex\">\n",
    "    <img width=\"200\" src=\"https://github.com/LAVI-USP/SEL0339-SEL5886_2024/raw/main/imagens/pratica_04/tex1.png\">\n",
    "    <img width=\"200\" src=\"https://github.com/LAVI-USP/SEL0339-SEL5886_2024/raw/main/imagens/pratica_04/tex2.png\">\n",
    "    <img width=\"200\" src=\"https://github.com/LAVI-USP/SEL0339-SEL5886_2024/raw/main/imagens/pratica_04/tex3.png\">\n",
    "    <img width=\"200\" src=\"https://github.com/LAVI-USP/SEL0339-SEL5886_2024/raw/main/imagens/pratica_04/tex4.png\">\n",
    "    <figcaption><b> Figura 4: </b> Da esquerda para a direita: feijão, macarrão, arroz e arroz novamente.</figcaption>\n",
    "</figure></center>\n",
    "\n",
    "**Exercício:**\n",
    "\n",
    "1. Calcule os mapas de textura por padrões binários locais (LBP) das imagens `tex1.tiff`, `tex2.tiff` e `tex3.tiff`, apresentadas anteriormente. Cada uma representa a imagem de um alimento (feijão, macarrão, arroz). Considere raio 1 e 8 vizinhos, e utilize o método por 'default': LBP circular original;\n",
    "\n",
    "2. Apresente os mapas de texturas calculados (imagens) e o histograma correpondente a cada um;\n",
    "\n",
    "3. Carregue a imagem `tex4.tiff`, e também apresente o seu mapa de textura e o seu histograma LBP.\n",
    "\n",
    "4. Calcule a distância euclidiana **entre os histogramas** LBP de cada imagem e o **histograma** da imagem `tex4.tiff`. A distância euclidiana nesse caso está sendo utilizada como métrica de similaridade. Classifique a qual dos três tipos de textura a imagem `tex4.tiff` pertence;\n",
    "\n",
    "4. Varie o raio, o número de pontos e o método utilizado para o 'ror': versão que lida com variação da rotação; e verifique como a distância entre os histogramas varia, se descrevem melhor as amostras da mesma classe.\n",
    "\n",
    "\n",
    "<font size=\"3\" color=\"darkblue\"><b>Dicas:</b></font>\n",
    "\n",
    "\n",
    "* Utilize a função [local_binary_pattern](https://scikit-image.org/docs/dev/api/skimage.feature.html?highlight=lbp#skimage.feature.local_binary_pattern) da biblioteca `scikit-image.feature` para calcular o LBP.\n",
    "\n",
    "* Utilize a função [np.linalg.norm](https://numpy.org/doc/stable/reference/generated/numpy.linalg.norm.html) da biblioteca `numpy.linalg` para calcular a distância entre os vetores.\n",
    "\n",
    "*Ex:*\n",
    "``` python\n",
    "# P correspondendo aos pontos e R ao raio.\n",
    "image_LBP = local_binary_pattern(myImg, P, R, method='default')\n",
    "\n",
    "L2_distance = np.linalg.norm(vetor_diferenca_entre_histogramas)\n",
    "```"
   ]
  },
  {
   "cell_type": "code",
   "execution_count": null,
   "metadata": {
    "id": "tfA8UxFDbBy4"
   },
   "outputs": [],
   "source": [
    "## -- Seu código começa AQUI -- ##\n",
    "\n",
    "## -- Seu código termina AQUI -- ##\n",
    "\n",
    "## -- COMENTÁRIOS -- ##"
   ]
  },
  {
   "cell_type": "markdown",
   "metadata": {
    "id": "YdTz_2lgiPAf"
   },
   "source": [
    "### 5) Descritor de cor (Nota: 2.5/10)\n",
    "\n",
    "Esse exercício tem como objetivo obter um descritor sobre as folhas de café.\n",
    "\n",
    "\n",
    "\n",
    " <center><figure class=\"half\" style=\"display:flex\">\n",
    "    <img width=\"300\" src=\"https://github.com/LAVI-USP/SEL0339-SEL5886_2024/raw/main/imagens/pratica_04/folha_ferrugem.png\">\n",
    "    <img width=\"300\" src=\"https://github.com/LAVI-USP/SEL0339-SEL5886_2024/raw/main/imagens/pratica_04/folha_saudavel.png\">\n",
    " </figure>   \n",
    "    <figcaption><b> Figura 5: </b> Da esquerda para a direita: Folha com ferrugem  e folha saudável.</figcaption>\n",
    "</center>\n",
    "\n",
    "\n",
    "1. Extraia os canais R, G e B da imagem `folha_ferrugem.png`;\n",
    "\n",
    "Como a ferrugem, nesse caso, possui pigmentação alaranjada, os canais R e G possuirão altos valores de intensidade nos pontos de ferrugem enquanto que o canal B terá baixos valores de intensidade.\n",
    "\n",
    "2. Visualize os canais R, G e B separadamente, em escala de cinza.\n",
    "\n",
    "4. Proponha, então, uma máscara binária $M(x)$ para os canais R, G e B (separadamente) de forma que, ao fazer alguma operação lógica com essas três máscaras dos canais, seja possível obter uma máscara que contenha os pixels de iteresse (ferrugem).\n",
    "  * Você deve propor os thresholds bem como a operação lógica.\n",
    "\n",
    "3. Mostre cada matriz binária dos canais e a resultante da operação.\n",
    "\n",
    "4. Por fim, faça um descritor para a relação entre pixel de ferrugem $P_{fr}$ e pixel de folha $P_{fl}$:\n",
    "\n",
    "  \\begin{equation}\n",
    "  Cor_{\\gamma}(\\%) = \\frac{P_{fr}}{P_{fl}}\n",
    "  \\end{equation}\n",
    "\n",
    "5. Agora, aplique exatamente o mesmo passo a passo que você propôs anteriormente na imagem `folha_saudavel.png`. Seu descritor foi bem sucessido? Comente."
   ]
  },
  {
   "cell_type": "code",
   "execution_count": null,
   "metadata": {
    "id": "dvQaFxe20wua"
   },
   "outputs": [],
   "source": [
    "## -- Seu código começa AQUI -- ##\n",
    "\n",
    "## -- Seu código termina AQUI -- ##\n",
    "\n",
    "## -- COMENTÁRIOS -- ##"
   ]
  }
 ],
 "metadata": {
  "colab": {
   "collapsed_sections": [
    "NyvxHviMpShq"
   ],
   "provenance": []
  },
  "kernelspec": {
   "display_name": "Python 3 (ipykernel)",
   "language": "python",
   "name": "python3"
  },
  "language_info": {
   "codemirror_mode": {
    "name": "ipython",
    "version": 3
   },
   "file_extension": ".py",
   "mimetype": "text/x-python",
   "name": "python",
   "nbconvert_exporter": "python",
   "pygments_lexer": "ipython3",
   "version": "3.12.2"
  }
 },
 "nbformat": 4,
 "nbformat_minor": 4
}
