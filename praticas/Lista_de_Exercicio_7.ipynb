{
 "cells": [
  {
   "cell_type": "markdown",
   "id": "99afb1ad-f1ff-4b9e-a1f8-e767491ec041",
   "metadata": {},
   "source": [
    "# Lista de Exercício 7\n",
    "### Introdução à Visão Computacional (SEL0339/SEL5886)\n",
    "\n",
    "**Instruções:**\n",
    "\n",
    " 1. Esta lista consiste de 2 exercícios.\n",
    " 1. Deve-se colocar comentários nos códigos desenvolvidos.\n",
    " 1. As perguntas devem ser respondidas também como comentários no arquivo.\n",
    " 1. Colocar seu nome e número USP abaixo.\n",
    " 1. Quaisquer problemas na execução das listas, entrar em contato com os monitores.\n",
    " 1. Depois de terminado os exercícios, deve ser gerado um arquivo **extensão .ipynb** para ser enviado ao professor pelo E-DISCIPLINAS da disciplina até a data máxima de entrega.\n",
    " 1. Caso não seja enviado, o aluno ficará sem nota.\n",
    "\n",
    "\n",
    "---\n",
    "\n",
    "\n",
    " <table class=\"tfo-notebook-buttons\" align=\"left\">\n",
    "  <td>\n",
    "    <a target=\"_blank\" href=\"https://colab.research.google.com/github/LAVI-USP/SEL0339-SEL5886_2024/blob/main/praticas/Lista_de_Exercicio_6.ipynb\"><img src=\"https://www.tensorflow.org/images/colab_logo_32px.png\" />Executar no Google Colab</a>\n",
    "  </td>\n",
    "  <td>\n",
    "    <a target=\"_blank\" href=\"https://github.com/LAVI-USP/SEL0339-SEL5886_2024/blob/main/praticas/Lista_de_Exercicio_6.ipynb\"><img src=\"https://www.tensorflow.org/images/GitHub-Mark-32px.png\" />Ver codigo fonte no GitHub</a>\n",
    "  </td>\n",
    "</table>"
   ]
  },
  {
   "cell_type": "markdown",
   "id": "63bba46e-d872-4f6f-9433-59407b00407c",
   "metadata": {},
   "source": [
    "`Nome: `\n",
    "\n",
    "`Número USP: `"
   ]
  },
  {
   "cell_type": "markdown",
   "id": "b464da97-ef2e-4e49-8e07-b19159e6bc16",
   "metadata": {},
   "source": [
    "### 1 (5.0) - Métricas de Avaliação\n",
    "\n",
    "Utilize os modelos que foram treinados nas listas anteriores e faça as análises no conjunto de teste das métricas de validação.\n",
    "\n",
    "Os modelos treinados na Lista 5 - Ex. 4) Modelos Classificação  e os modelos da Lista 6 - Ex. 2.1 (CNN) e 2.2 (Modelos pré-treinados)\n",
    "\n",
    "Obs: **provavelmente os modelos não foram salvos com as seeds etc, então voces vão precisar 'treinar novamente' e não tem problema caso os valores tenham alguma variação dos valores originais postados na Lista 5 e 6.**\n",
    "\n",
    "Análises que precisam ser feitas.\n",
    "\n",
    "* Tabela de Contigência\n",
    "* Sensibilidade (Recall)\n",
    "* Especificidade (Precision)\n",
    "* Acurácia\n",
    "* Matriz de confusão\n",
    "* F1-score\n",
    "* ROC-AUC e a curva ROC (apenas para o conjunto de dados de classificação binária)\n",
    "\n",
    "Podem utilizar bibliotecas do sklearn que já tenham essas implementados, não precisa implementar nada do zero. Avaliem o modelo SEMPRE no conjunto de teste para tirar as conclusões finais!\n",
    "\n",
    "Para cada modelo que será feito essas analises faça uma breve discussão dos resultados (qual a métrica seria a melhor para aquele problema de classificação, qual seria pior etc, apenas uma análise crítica)"
   ]
  },
  {
   "cell_type": "markdown",
   "id": "05e176d0-9466-4461-bd32-418f5f81d81e",
   "metadata": {},
   "source": [
    "### Fórmula do F$\\beta$-Score\n",
    "\n",
    "Existe uma métrica em que ponderamos a Precision e Recall.\n",
    "\n",
    "$$\n",
    "F_{\\beta} = (1 + \\beta^2) \\cdot \\frac{\\text{Precision} \\cdot \\text{Recall}}{(\\beta^2 \\cdot \\text{Precision}) + \\text{Recall}}\n",
    "$$\n",
    "\n",
    "#### Onde:\n",
    "- $\\beta > 1$: Dá mais peso ao Recall.\n",
    "- $\\beta < 1$: Dá mais peso à Precisão.\n",
    "- $\\beta = 1$: É equivalente ao F1-score.\n",
    "\n",
    "### Interpretação:\n",
    "- Permite personalizar o balanço entre Precisão e Recall.\n",
    "- Útil em problemas específicos, como:\n",
    "  - **Prioridade para Recall**: Segurança, detecção de fraudes, etc.\n",
    "  - **Prioridade para Precisão**: Recomendações, etc.\n",
    "\n",
    "### Fórmula do F1-Score\n",
    "\n",
    "$$\n",
    "F_1 = 2 \\cdot \\frac{\\text{Precision} \\cdot \\text{Recall}}{\\text{Precision} + \\text{Recall}}\n",
    "$$\n",
    "\n",
    "#### Onde:\n",
    "- $\\text{Precision} = \\frac{\\text{TP}}{\\text{TP} + \\text{FP}}$\n",
    "- $\\text{Recall} = \\frac{\\text{TP}}{\\text{TP} + \\text{FN}}$\n",
    "\n",
    "### Interpretação:\n",
    "- Um valor de $F_1$ próximo de 1 indica bom equilíbrio entre precisão e recall.\n",
    "- É usado para avaliar modelos em cenários com dados desbalanceados.\n"
   ]
  },
  {
   "cell_type": "code",
   "execution_count": 24,
   "id": "aeb6906b-d083-4435-b57d-f01d35e5cf9e",
   "metadata": {},
   "outputs": [],
   "source": [
    "## SEU CODIGO AQUI"
   ]
  },
  {
   "cell_type": "markdown",
   "id": "df85f2e8-a4e2-4dc9-a087-113a6033aa02",
   "metadata": {},
   "source": [
    "# 2 - Análise de modelo treinado"
   ]
  },
  {
   "cell_type": "markdown",
   "id": "5d3ca8bb-849d-49d7-acd3-5ff604586462",
   "metadata": {},
   "source": [
    "Neste exemplos vamos analisar 2x modelos já treinados em um conjunto de dados ficticios de predição de uma doença, em que a classe 1 é a doença, não precisa se preocupar o sigfinicado das variveis V1, V2 etc."
   ]
  },
  {
   "cell_type": "code",
   "execution_count": 30,
   "id": "f55d4896-2127-46c3-8303-0e27694814b6",
   "metadata": {},
   "outputs": [],
   "source": [
    "import pandas as pd\n",
    "df = pd.read_csv(\"dados.csv\")"
   ]
  },
  {
   "cell_type": "code",
   "execution_count": 31,
   "id": "36758160-0bf7-40d9-bbe9-5d1c494f7292",
   "metadata": {},
   "outputs": [
    {
     "name": "stdout",
     "output_type": "stream",
     "text": [
      "Accuracy: 0.9991456292499094\n"
     ]
    }
   ],
   "source": [
    "# treinamento de um modelo de arvore\n",
    "from sklearn.datasets import make_classification\n",
    "from sklearn.model_selection import train_test_split\n",
    "from sklearn.tree import DecisionTreeClassifier\n",
    "from sklearn.metrics import accuracy_score, recall_score, classification_report\n",
    "\n",
    "X = df.loc[:,['V1', 'V2', 'V3', 'V4', 'V5', 'V6', 'V7', 'V8', 'V9', 'V10',\n",
    "       'V11', 'V12', 'V13', 'V14', 'V15', 'V16', 'V17', 'V18', 'V19', 'V20',\n",
    "       'V21', 'V22', 'V23', 'V24', 'V25', 'V26', 'V27', 'V28', 'Amount']]\n",
    "y = df.loc[:,'Class']\n",
    "# Divisão em treino e teste\n",
    "X_train, X_test, y_train, y_test = train_test_split(X, y, test_size=0.3, random_state=42)\n",
    "\n",
    "# Treinar um modelo simples (árvore de decisão)\n",
    "model = DecisionTreeClassifier(random_state=42)\n",
    "model.fit(X_train, y_train)\n",
    "\n",
    "# Previsões\n",
    "y_pred = model.predict(X_test)\n",
    "\n",
    "# Avaliação\n",
    "accuracy = accuracy_score(y_test, y_pred)\n",
    "print(\"Accuracy:\", accuracy)"
   ]
  },
  {
   "cell_type": "code",
   "execution_count": 32,
   "id": "bebab28e-94da-4256-9205-dc1ae95094a8",
   "metadata": {},
   "outputs": [
    {
     "name": "stdout",
     "output_type": "stream",
     "text": [
      "Epoch 1/20, Loss: 0.0150\n",
      "Epoch 2/20, Loss: 0.0054\n",
      "Epoch 3/20, Loss: 0.0049\n",
      "Epoch 4/20, Loss: 0.0051\n",
      "Epoch 5/20, Loss: 0.0049\n",
      "Epoch 6/20, Loss: 0.0037\n",
      "Epoch 7/20, Loss: 0.0036\n",
      "Epoch 8/20, Loss: 0.0040\n",
      "Epoch 9/20, Loss: 0.0033\n",
      "Epoch 10/20, Loss: 0.0031\n",
      "Epoch 11/20, Loss: 0.0032\n",
      "Epoch 12/20, Loss: 0.0031\n",
      "Epoch 13/20, Loss: 0.0029\n",
      "Epoch 14/20, Loss: 0.0028\n",
      "Epoch 15/20, Loss: 0.0030\n",
      "Epoch 16/20, Loss: 0.0031\n",
      "Epoch 17/20, Loss: 0.0027\n",
      "Epoch 18/20, Loss: 0.0032\n",
      "Epoch 19/20, Loss: 0.0027\n",
      "Epoch 20/20, Loss: 0.0025\n"
     ]
    }
   ],
   "source": [
    "# de uma de uma rede neural\n",
    "import torch\n",
    "import torch.nn as nn\n",
    "import torch.optim as optim\n",
    "from sklearn.datasets import make_classification\n",
    "from sklearn.model_selection import train_test_split\n",
    "from sklearn.metrics import classification_report\n",
    "from torch.utils.data import DataLoader, TensorDataset\n",
    "\n",
    "# Configurações gerais\n",
    "device = torch.device(\"cuda\" if torch.cuda.is_available() else \"cpu\")\n",
    "torch.manual_seed(42)\n",
    "# Converter para tensores do PyTorch\n",
    "X_train_tensor = torch.tensor(X_train.to_numpy(), dtype=torch.float32)\n",
    "y_train_tensor = torch.tensor(y_train.to_numpy(), dtype=torch.long)\n",
    "X_test_tensor = torch.tensor(X_test.to_numpy(), dtype=torch.float32)\n",
    "y_test_tensor = torch.tensor(y_test.to_numpy(), dtype=torch.long)\n",
    "\n",
    "# Criar DataLoaders\n",
    "train_dataset = TensorDataset(X_train_tensor, y_train_tensor)\n",
    "test_dataset = TensorDataset(X_test_tensor, y_test_tensor)\n",
    "train_loader = DataLoader(train_dataset, batch_size=32, shuffle=True)\n",
    "test_loader = DataLoader(test_dataset, batch_size=32)\n",
    "\n",
    "# Definir uma rede neural simples\n",
    "class SimpleNN(nn.Module):\n",
    "    def __init__(self):\n",
    "        super(SimpleNN, self).__init__()\n",
    "        self.fc1 = nn.Linear(29, 64)\n",
    "        self.fc2 = nn.Linear(64, 32)\n",
    "        self.fc3 = nn.Linear(32, 2)  # Saída com 2 classes\n",
    "\n",
    "    def forward(self, x):\n",
    "        x = torch.relu(self.fc1(x))\n",
    "        x = torch.relu(self.fc2(x))\n",
    "        x = self.fc3(x)  # Sem softmax, pois usaremos CrossEntropyLoss\n",
    "        return x\n",
    "\n",
    "# Inicializar a rede, função de perda e otimizador\n",
    "model = SimpleNN().to(device)\n",
    "criterion = nn.CrossEntropyLoss()  # Ignora o desbalanceamento por padrão\n",
    "optimizer = optim.Adam(model.parameters(), lr=0.001)\n",
    "\n",
    "# Treinar a rede neural\n",
    "epochs = 20\n",
    "for epoch in range(epochs):\n",
    "    model.train()\n",
    "    running_loss = 0.0\n",
    "    for X_batch, y_batch in train_loader:\n",
    "        X_batch, y_batch = X_batch.to(device), y_batch.to(device)\n",
    "\n",
    "        # Forward\n",
    "        outputs = model(X_batch)\n",
    "        loss = criterion(outputs, y_batch)\n",
    "        \n",
    "        # Backward e otimização\n",
    "        optimizer.zero_grad()\n",
    "        loss.backward()\n",
    "        optimizer.step()\n",
    "        \n",
    "        running_loss += loss.item()\n",
    "\n",
    "    print(f\"Epoch {epoch+1}/{epochs}, Loss: {running_loss/len(train_loader):.4f}\")\n",
    "\n",
    "# Avaliação do modelo\n",
    "model.eval()\n",
    "y_pred = []\n",
    "y_true = []\n",
    "\n",
    "with torch.no_grad():\n",
    "    for X_batch, y_batch in test_loader:\n",
    "        X_batch, y_batch = X_batch.to(device), y_batch.to(device)\n",
    "        outputs = model(X_batch)\n",
    "        _, predicted = torch.max(outputs, 1)\n",
    "        y_pred.extend(predicted.cpu().numpy())\n",
    "        y_true.extend(y_batch.cpu().numpy())"
   ]
  },
  {
   "cell_type": "code",
   "execution_count": 34,
   "id": "a8193b40-29c5-4a78-b76a-1c4aec6f23fd",
   "metadata": {},
   "outputs": [
    {
     "name": "stdout",
     "output_type": "stream",
     "text": [
      "Accuracy: 0.9995318516437859\n"
     ]
    }
   ],
   "source": [
    "# Avaliação\n",
    "accuracy = accuracy_score(y_test, y_pred)\n",
    "print(\"Accuracy:\", accuracy)"
   ]
  },
  {
   "cell_type": "markdown",
   "id": "58b3dfb1-5ed6-4ff7-86f7-9b742b3e42eb",
   "metadata": {},
   "source": [
    "## 2.1 (3 pontos)\n",
    "Ambos os modelos estão ótimos certo? Com alta acurácia...\n",
    "\n",
    "Ou não? A acurácia de fato foi a melhor métrica utilizada para validar a perfomance do modelo? Caso não concorde qual a métrica na sua opnião deveria ser utilizada e justifique o motivo."
   ]
  },
  {
   "cell_type": "markdown",
   "id": "aaee8eff-0f7f-4dbd-9315-917fabf2c3aa",
   "metadata": {},
   "source": [
    "## 2.2 (2 pontos)\n",
    "Utilizando o mesmo conjunto de dados, sem se preocupar com o pré-processamento de dados, é possível melhorar a perfomance do modelo pela métrica que voce acha que seria interessante?\n",
    "\n",
    "Pode utilizar modelo de árvore ou a rede neural, alterar os hiperparametros, divisão no conjunto de treino, outros modelos que podem ser melhores, fique a vontade para escolher a solução que melhore a sua métrica de avaliação e justifique (mesmo que não tenha conseguido melhorar, oq acha que pode ter acontecido)."
   ]
  },
  {
   "cell_type": "code",
   "execution_count": null,
   "id": "a53f7d46-da26-40f4-b2b5-f06eb509c3e4",
   "metadata": {},
   "outputs": [],
   "source": []
  },
  {
   "cell_type": "code",
   "execution_count": null,
   "id": "a3b7e4aa-cea7-4aac-a946-36e5d8807b25",
   "metadata": {},
   "outputs": [],
   "source": []
  }
 ],
 "metadata": {
  "kernelspec": {
   "display_name": "Python 3 (ipykernel)",
   "language": "python",
   "name": "python3"
  },
  "language_info": {
   "codemirror_mode": {
    "name": "ipython",
    "version": 3
   },
   "file_extension": ".py",
   "mimetype": "text/x-python",
   "name": "python",
   "nbconvert_exporter": "python",
   "pygments_lexer": "ipython3",
   "version": "3.12.2"
  }
 },
 "nbformat": 4,
 "nbformat_minor": 5
}
