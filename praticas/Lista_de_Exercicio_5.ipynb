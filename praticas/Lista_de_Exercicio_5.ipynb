{
 "cells": [
  {
   "cell_type": "markdown",
   "id": "99afb1ad-f1ff-4b9e-a1f8-e767491ec041",
   "metadata": {},
   "source": [
    "# Lista de Exercício 5\n",
    "### Introdução à Visão Computacional (SEL0339/SEL5886)\n",
    "\n",
    "**Instruções:**\n",
    "\n",
    " 1. Esta lista consiste de 4 exercícios.\n",
    " 1. Deve-se colocar comentários nos códigos desenvolvidos.\n",
    " 1. As perguntas devem ser respondidas também como comentários no arquivo.\n",
    " 1. Colocar seu nome e número USP abaixo.\n",
    " 1. Quaisquer problemas na execução das listas, entrar em contato com os monitores.\n",
    " 1. Depois de terminado os exercícios, deve ser gerado um arquivo **extensão .ipynb** para ser enviado ao professor pelo E-DISCIPLINAS da disciplina até a data máxima de entrega.\n",
    " 1. Caso não seja enviado, o aluno ficará sem nota.\n",
    "\n",
    "\n",
    "---\n",
    "\n",
    "\n",
    " <table class=\"tfo-notebook-buttons\" align=\"left\">\n",
    "  <td>\n",
    "    <a target=\"_blank\" href=\"https://colab.research.google.com/github/LAVI-USP/SEL0339-SEL5886_2024/blob/main/praticas/Lista_de_Exercicio_5.ipynb\"><img src=\"https://www.tensorflow.org/images/colab_logo_32px.png\" />Executar no Google Colab</a>\n",
    "  </td>\n",
    "  <td>\n",
    "    <a target=\"_blank\" href=\"https://github.com/LAVI-USP/SEL0339-SEL5886_2024/blob/main/praticas/Lista_de_Exercicio_5.ipynb\"><img src=\"https://www.tensorflow.org/images/GitHub-Mark-32px.png\" />Ver codigo fonte no GitHub</a>\n",
    "  </td>\n",
    "</table>"
   ]
  },
  {
   "cell_type": "markdown",
   "id": "63bba46e-d872-4f6f-9433-59407b00407c",
   "metadata": {},
   "source": [
    "`Nome: `\n",
    "\n",
    "`Número USP: `"
   ]
  },
  {
   "cell_type": "markdown",
   "id": "00b61071-0416-44a3-bee7-4c81c3efaa71",
   "metadata": {},
   "source": [
    "### Introdução:\n",
    "\n",
    "\n",
    "Nesta lista iremos abordar os tópicos de Classificação de Padrões em Imagens, desde o pré-processamento e tratamento das variaves até a implementação de classificadores."
   ]
  },
  {
   "cell_type": "markdown",
   "id": "a39223dc-9b29-479b-a1d5-69b4e17701ef",
   "metadata": {},
   "source": [
    "Vamos utilizar dois conjunto de dados, ambos estão disponíveis em [UC Irvine Machine Learning Repository](https://archive.ics.uci.edu/), pode baixar diretamente e carregar o conjunto de dados ou simplesmente instalar a biblioteca abaixo e importar."
   ]
  },
  {
   "cell_type": "markdown",
   "id": "f9ce7a8e-9c14-4bef-a984-ee34126b419f",
   "metadata": {},
   "source": [
    "```\n",
    "!pip install ucimlrepo\n",
    "```\n"
   ]
  },
  {
   "cell_type": "markdown",
   "id": "803e88e5-840d-4e34-b65a-3d256c648a65",
   "metadata": {},
   "source": [
    "## Iris dataset\n",
    "O conjunto de dados contém 3 classes, cada uma com 50 instâncias, onde cada classe se refere a um tipo de planta do gênero Iris. \n",
    "\n",
    "![](https://s3.amazonaws.com/assets.datacamp.com/blog_assets/Machine+Learning+R/iris-machinelearning.png)\n",
    "\n",
    "E o conjunto de dados\n",
    "| Nome da Variável | Papel    | Tipo         | Descrição                                          | Unidades | Valores Ausentes |\n",
    "|------------------|----------|--------------|----------------------------------------------------|----------|------------------|\n",
    "| sepal length     | Atributo | Contínuo     | Comprimento da sépala                              | cm       | não              |\n",
    "| sepal width      | Atributo | Contínuo     | Largura da sépala                                  | cm       | não              |\n",
    "| petal length     | Atributo | Contínuo     | Comprimento da pétala                              | cm       | não              |\n",
    "| petal width      | Atributo | Contínuo     | Largura da pétala                                  | cm       | não              |\n",
    "| class            | Variável resposta     | Categórico   | Classe da planta Iris: Iris Setosa, Iris Versicolour ou Iris Virginica | -        | não              |\n"
   ]
  },
  {
   "cell_type": "markdown",
   "id": "16f5b3fd-ebd4-429b-9448-6eb59328d9c6",
   "metadata": {},
   "source": [
    "Para carregar o conjunto de dados"
   ]
  },
  {
   "cell_type": "code",
   "execution_count": null,
   "id": "5c1148e3-fc23-4233-b186-0c36f64a831f",
   "metadata": {},
   "outputs": [],
   "source": [
    "from ucimlrepo import fetch_ucirepo \n",
    "\n",
    "# carregando o conjunto de dados\n",
    "iris = fetch_ucirepo(id=53) \n",
    "\n",
    "# atributos\n",
    "X_iris = iris.data.features \n",
    "# variavel resposta\n",
    "y_iris = iris.data.targets "
   ]
  },
  {
   "cell_type": "markdown",
   "id": "e0e3e62e-beb8-48b3-9812-01b76bb5aeb7",
   "metadata": {},
   "source": [
    "## Doenças Cardiacas (Heart Disease)\n",
    "Este conjunto de dados representa a condição de presença de doença cardiáca ou não no paciente\n",
    "| Nome da Variável | Papel    | Tipo          | Descrição                                                  | Unidades | Valores Ausentes |\n",
    "|------------------|----------|--------------|------------------------------------------------------------|----------|------------------|\n",
    "| age              | Atributo | Inteiro             |      Anos                                                     | anos     | não              |\n",
    "| sex              | Atributo | Categórico          |          Sexo                                                 | -        | não              |\n",
    "| cp               | Atributo | Categórico                |       Tipo de dor no peito (4 tipo de valores)                                                   | -        | não              |\n",
    "| trestbps         | Atributo | Inteiro                   | Pressão arterial em repouso (na admissão hospitalar)      | mm Hg    | não              |\n",
    "| chol             | Atributo | Inteiro                   | Colesterol sérico                                         | mg/dl    | não              |\n",
    "| fbs              | Atributo | Categórico                | Açúcar no sangue em jejum > 120 mg/dl                     | -        | não              |\n",
    "| restecg          | Atributo | Categórico               |  resultados do eletrocardiograma em repouso (valores 0, 1, 2)                                                         | -        | não              |\n",
    "| thalach          | Atributo | Inteiro                  | Frequência cardíaca máxima alcançada                      | -        | não              |\n",
    "| exang            | Atributo | Categórico               | Angina induzida por exercício                             | -        | não              |\n",
    "| oldpeak          | Atributo | Inteiro                   | Depressão do segmento ST induzida por exercício em repouso | -        | não              |\n",
    "| slope            | Atributo | Categórico               | a inclinação do segmento ST no pico do exercício                                                          | -        | não              |\n",
    "| ca               | Atributo | Inteiro                  | Número de vasos principais (0-3) coloridos por fluoroscopia | -        | sim              |\n",
    "| thal             | Atributo | Categórico               |   thal: 0 = normal; 1 = defeito fixo; 2 = defeito reversível                                                        | -        | sim              |\n",
    "| num              | Variável resposta     | Inteiro                  | Diagnóstico de doença cardíaca                            | -        | não              |\n"
   ]
  },
  {
   "cell_type": "code",
   "execution_count": null,
   "id": "9af7907d-10af-4b89-af79-99c332b5200d",
   "metadata": {},
   "outputs": [],
   "source": [
    "from ucimlrepo import fetch_ucirepo \n",
    "   \n",
    "heart_disease = fetch_ucirepo(id=45) \n",
    "  \n",
    "# carregando os dados\n",
    "X_heart = heart_disease.data.features \n",
    "y__heart = heart_disease.data.targets "
   ]
  },
  {
   "cell_type": "markdown",
   "id": "0866044c-5862-4fb6-a72b-7987379728b4",
   "metadata": {},
   "source": [
    "# 1) Ajuste de valores nos atributos e variável resposta\n",
    "Nota: 1.5\n",
    "\n",
    "1) Em ambos os conjunto de dados realize os tratamentos para transformar as variáveis em números. Tanto nas features X quanto na variável reposta y. Com base nas aulas utilize os Encoding que achar necessário e **justifique a escolha desse Enconding para cada variável (Label, One-hot, Ordinal) com códigos bem comentados**\n",
    "\n",
    "Podem utilizar as funções implementadas no sklearn/pandas, consulte as documentações para qualquer dúvida do uso."
   ]
  },
  {
   "cell_type": "code",
   "execution_count": null,
   "id": "488270a2-07c3-466c-b721-7f1c1952adf0",
   "metadata": {},
   "outputs": [],
   "source": [
    "# label encoding\n",
    "from sklearn.preprocessing import LabelEncoder\n",
    "\n",
    "# One Hot\n",
    "# no pandas tambem tem uma funcao implementada\n",
    "# pandas.get_dummies\n",
    "from sklearn.preprocessing import OneHotEncoder\n",
    "\n",
    "# Ordinal Encoding\n",
    "from sklearn.preprocessing import OrdinalEncoder"
   ]
  },
  {
   "cell_type": "code",
   "execution_count": null,
   "id": "1c103a3f-f5ad-4a12-9d10-466df84ab286",
   "metadata": {},
   "outputs": [],
   "source": [
    "## -- Seu código começa AQUI -- ##\n",
    "\n",
    "## -- Seu código termina AQUI -- ##\n",
    "\n",
    "## -- COMENTÁRIOS -- ##"
   ]
  },
  {
   "cell_type": "markdown",
   "id": "fc7ebf6f-e8cb-41ff-9acd-6a8e9e89d701",
   "metadata": {},
   "source": [
    "# 2) Ajuste de valores nos atributos (Pré processamento)\n",
    "Nota: 1.5\n",
    "\n",
    "1)Implemente as suas funções para fazer os ajustes dos valores, utilizar apenas funções básicas do numpy ( max, min, mean, std, etc).\n",
    "Escolha apenas **uma** para a implementação\n",
    "\n",
    "Normalização\n",
    "\\begin{equation}\n",
    "  X_{norm} = \\frac{X - X_{min}}{X_{max}-X_{min}}\n",
    "\\end{equation}\n",
    "\n",
    "onde $X$ representa o atributo analisado, $X_{max}$ e $X_{min}$ os valores máximos e mínimos daquele atributo\n",
    "\n",
    "Z-score padronização\n",
    "\\begin{equation}\n",
    "  Z = \\frac{X - \\bar{X}}{\\sigma_{X}}\n",
    "\\end{equation}\n",
    "\n",
    "onde $X$ representa o atributo analisado, $\\bar{X}$ o seu valor médio e $\\sigma_{X}$ o sue desvio padrão."
   ]
  },
  {
   "cell_type": "markdown",
   "id": "04742e73-82c3-468f-8573-e038da943250",
   "metadata": {},
   "source": [
    "2) Utilize as funções implementadas no sklearn e faça o pré-processamento novamente, houve diferenças com a sua função implementada? Se sim, explique a diferença.\n",
    "\n",
    "Também implemente o RobustScaler, apenas para olhar os valores entre os 3 metodos de feature scaling.\n",
    "\n",
    "Obs: olhem sempre a documentação no sklearn dessas implementações para ver como implementar."
   ]
  },
  {
   "cell_type": "code",
   "execution_count": null,
   "id": "6770b864-3387-4046-be5e-68a1318a2bec",
   "metadata": {},
   "outputs": [],
   "source": [
    "## -- Seu código começa AQUI -- ##\n",
    "\n",
    "## -- Seu código termina AQUI -- ##\n",
    "\n",
    "## -- COMENTÁRIOS -- ##"
   ]
  },
  {
   "cell_type": "code",
   "execution_count": null,
   "id": "aed38f9b-316c-4ed8-8653-45d00c1d3c14",
   "metadata": {},
   "outputs": [],
   "source": [
    "from sklearn.preprocessing import MinMaxScaler\n",
    "from sklearn.preprocessing import StandardScaler\n",
    "from sklearn.preprocessing import RobustScaler"
   ]
  },
  {
   "cell_type": "code",
   "execution_count": null,
   "id": "12c7e84a-c4f4-4976-9512-28c995c9d849",
   "metadata": {},
   "outputs": [],
   "source": [
    "## -- Seu código começa AQUI -- ##\n",
    "\n",
    "## -- Seu código termina AQUI -- ##\n",
    "\n",
    "## -- COMENTÁRIOS -- ##"
   ]
  },
  {
   "cell_type": "markdown",
   "id": "eea7e415-201b-4a80-8284-c677edb5b160",
   "metadata": {},
   "source": [
    "# 3) Agrupamentos \n",
    "Nota: 3.5\n",
    "\n",
    "1) Aplicar o método K-means (faça o teste para k=3) para tentar agrupar os vetores de atributos para o conjunto de dados de **Iris**, utilize a função do sklearn KMeans e escolha qualquer um dos métodos usados acima MinMaxScaler,StandardScaler ou RobustScaler.\n",
    "\n",
    "Lembre-se, no aprendizado não supervisionado devemos apenas utilizar as features (X), não utilizar a variável resposta no treinamento. Utilizar apenas no final para comparar os agrupamentos (conseguimos diferenciar as classes?)\n",
    "\n",
    "**Aqui o importante é a implementação e não o resultado.**"
   ]
  },
  {
   "cell_type": "markdown",
   "id": "fa3619e6-458a-43f7-8056-da5bfd32b724",
   "metadata": {},
   "source": [
    "* É possível utilizar as funções (métodos) da classe [**KMeans**](https://scikit-learn.org/stable/modules/generated/sklearn.cluster.KMeans.html) da biblioteca **sklearn**:\n",
    "\n",
    "  `kmeans = KMeans(n_clusters=3, random_state=0).fit(X)`\n",
    "  \n",
    "  `classe_de_cada_amostra = kmeans.labels_`\n",
    "\n",
    "  `centroides = kmeans.cluster_centers_`\n",
    "\n",
    "2) Utilizando a função [**scatter3D**](https://www.geeksforgeeks.org/3d-scatter-plotting-in-python-using-matplotlib/) do matplotlib, plote o espaço tridimensional com os atributos (Comprimento da sépala, Largura da sépala, Comprimento da pétala) de cada flor, além de indicar os 3 centroides calculados.\n"
   ]
  },
  {
   "cell_type": "markdown",
   "id": "57a0f706-dee1-4aa9-8be7-47d71b9a3f35",
   "metadata": {},
   "source": [
    "3) Encontrar a Matriz de Distância dos dados padronizados em (**2**) utilizando a função [**pdist**](https://docs.scipy.org/doc/scipy/reference/generated/scipy.spatial.distance.pdist.html#scipy.spatial.distance.pdist), que retorna a Matriz de Distância condensada (apenas os valores acima da diagonal principal), ideal para a utilização com as demais funções da biblioteca **scipy** para tal finalidade.\n",
    "\n",
    "* `D = pdist(M) %‘M’ é a matriz padronizada`\n",
    "\n",
    "4) Definir as Ligações para agrupar os objetos/Vetores utilizando a Ligação Centróide. [**hierarchy.linkage**](https://docs.scipy.org/doc/scipy/reference/generated/scipy.cluster.hierarchy.linkage.html#scipy.cluster.hierarchy.linkage)\n",
    "\n",
    "* `Z = hierarchy.linkage(D,'centroid')`\n",
    "\n",
    "5) Plotar o Dendrograma de Z e expliquar o significado de cada ramo. [**hierarchy.dendrogram**](https://docs.scipy.org/doc/scipy/reference/generated/scipy.cluster.hierarchy.dendrogram.html)\n",
    "\n",
    "* `H = hierarchy.dendrogram(Z,labels=features,orientation='right')`\n",
    "\n",
    "OBS: O eixo de similaridade para o caso da função do SciPy é apresentado com valores de nível de distância em lugar de similaridade."
   ]
  },
  {
   "cell_type": "markdown",
   "id": "5976ee55-f0ef-47cf-91ff-d7758c26428d",
   "metadata": {},
   "source": [
    "## 4) Modelos Classificação"
   ]
  },
  {
   "cell_type": "markdown",
   "id": "e56d8ca9-7498-409c-925a-6b2d6e1e2af5",
   "metadata": {},
   "source": [
    "Nota: 3.5\n",
    "\n",
    "Agora com base nos dois conjuntos de dados, **Iris** e **Doencas Cardiacas** vamos utilizar os classificadores (KNN, RandomForest e XGBoost) e a métrica de accuracia para ver a perfomance. Utilize um o StandardScaler como método de scaling dos aos e print os valores de acuracia para cada modelo.\n",
    "\n",
    "Fiquem a vontade para ler a documentação dos classificadores, todas as funções estão explicadas e com exemplos!\n",
    "\n",
    "Obs: não precisa se preocupar com a accuracia e nem com a divisao de treino/teste, será abordado nas próximas aulas, abaixo tem os exemplos dos codigos para realizar a divisão e o calculo de accuracia"
   ]
  },
  {
   "cell_type": "code",
   "execution_count": null,
   "id": "1fc77d70-9add-425d-9831-af56e455c2c1",
   "metadata": {},
   "outputs": [],
   "source": [
    "# a divisao de treino/teste\n",
    "from sklearn.model_selection import train_test_split\n",
    "X_train, X_test, y_train, y_test = train_test_split(X, y, test_size=0.3, random_state=42)\n",
    "X_train.shape, X_test.shape, y_train.shape, y_test.shape "
   ]
  },
  {
   "cell_type": "markdown",
   "id": "6f5e4670-d745-4e04-8355-b2e7e1ecd9c4",
   "metadata": {},
   "source": [
    "Treine os modelos RandomForest, KNN e XGBoost"
   ]
  },
  {
   "cell_type": "code",
   "execution_count": null,
   "id": "4fd55e06-6a42-48ae-ac0c-f570eaae3cdf",
   "metadata": {},
   "outputs": [],
   "source": [
    "# para instalar o XGBoost\n",
    "!pip install xgboost"
   ]
  },
  {
   "cell_type": "code",
   "execution_count": null,
   "id": "0c6ed358-f8a1-4e1d-8f7b-161916fb45b0",
   "metadata": {},
   "outputs": [],
   "source": [
    "# importa os classificadores\n",
    "from xgboost import XGBClassifier\n",
    "from sklearn.neighbors import KNeighborsClassifier\n",
    "from sklearn.ensemble import RandomForestClassifier\n",
    "\n",
    "# para treinar os modelos\n",
    "model_XX = XXClassifier.fit(X_train, y_train)\n"
   ]
  },
  {
   "cell_type": "code",
   "execution_count": null,
   "id": "9bc2163d-2f09-47cd-aee3-992bbcc27c83",
   "metadata": {},
   "outputs": [],
   "source": [
    "## -- Seu código começa AQUI -- ##\n",
    "\n",
    "## -- Seu código termina AQUI -- ##\n",
    "\n",
    "## -- COMENTÁRIOS -- ##"
   ]
  },
  {
   "cell_type": "code",
   "execution_count": null,
   "id": "0d64a726-573e-4161-9707-590d1346dc0c",
   "metadata": {},
   "outputs": [],
   "source": [
    "# para calcular a acuracia\n",
    "from sklearn.metrics import accuracy_score\n",
    "\n",
    "# predict retorna a classe já predita, 1, 0 etc.\n",
    "y_prob = model.predict(X_test)\n",
    "\n",
    "# verificar a acuracia\n",
    "accuracy_score(y_test,y_prob)\n",
    "\n",
    "# probabilidade das classes, retorna a probabilidade de ser uma classe ou outra, por exemplo 0.7 e 0.3.\n",
    "y_prob = model.predict_proba(X_test)\n",
    "\n",
    "# se usar o predict_proba precisamos arredondar para 1 ou 0.\n",
    "accuracy_score(y_test,y_prob[:,1].round())"
   ]
  },
  {
   "cell_type": "code",
   "execution_count": null,
   "id": "ab715ec6-d189-49ad-894f-0cbadb098c69",
   "metadata": {},
   "outputs": [],
   "source": [
    "## -- Seu código começa AQUI -- ##\n",
    "\n",
    "## -- Seu código termina AQUI -- ##\n",
    "\n",
    "## -- COMENTÁRIOS -- ##"
   ]
  },
  {
   "cell_type": "markdown",
   "id": "64f0610b-e6b2-4427-bb71-841457657181",
   "metadata": {},
   "source": [
    "Agora refaça os treinamentos nos conjuntos e dados **sem utilizar nenhuma tecnica de normalização**, deixa os dados originais (apenas transformados em numericos sem usar MinMaxScaler,StandardScaler ou RobustScaler).\n",
    "\n",
    "Quais modelos tiveram alteração na acuracia?"
   ]
  },
  {
   "cell_type": "code",
   "execution_count": null,
   "id": "e8721b5c-f76d-40d2-85c1-f9ab52cca348",
   "metadata": {},
   "outputs": [],
   "source": [
    "## -- Seu código começa AQUI -- ##\n",
    "\n",
    "## -- Seu código termina AQUI -- ##\n",
    "\n",
    "## -- COMENTÁRIOS -- ##"
   ]
  }
 ],
 "metadata": {
  "kernelspec": {
   "display_name": "Python 3 (ipykernel)",
   "language": "python",
   "name": "python3"
  },
  "language_info": {
   "codemirror_mode": {
    "name": "ipython",
    "version": 3
   },
   "file_extension": ".py",
   "mimetype": "text/x-python",
   "name": "python",
   "nbconvert_exporter": "python",
   "pygments_lexer": "ipython3",
   "version": "3.12.2"
  }
 },
 "nbformat": 4,
 "nbformat_minor": 5
}
